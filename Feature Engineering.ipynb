{
  "nbformat": 4,
  "nbformat_minor": 2,
  "metadata": {
    "kernelspec": {
      "display_name": "Python 3",
      "language": "python",
      "name": "python3"
    },
    "language_info": {
      "codemirror_mode": {
        "name": "ipython",
        "version": 3
      },
      "file_extension": ".py",
      "mimetype": "text/x-python",
      "name": "python",
      "nbconvert_exporter": "python",
      "pygments_lexer": "ipython3",
      "version": "3.7.4"
    },
    "toc": {
      "base_numbering": 1,
      "nav_menu": {},
      "number_sections": true,
      "sideBar": true,
      "skip_h1_title": false,
      "title_cell": "Table of Contents",
      "title_sidebar": "Contents",
      "toc_cell": false,
      "toc_position": {},
      "toc_section_display": true,
      "toc_window_display": false
    },
    "varInspector": {
      "cols": {
        "lenName": 16,
        "lenType": 16,
        "lenVar": 40
      },
      "kernels_config": {
        "python": {
          "delete_cmd_postfix": "",
          "delete_cmd_prefix": "del ",
          "library": "var_list.py",
          "varRefreshCmd": "print(var_dic_list())"
        },
        "r": {
          "delete_cmd_postfix": ") ",
          "delete_cmd_prefix": "rm(",
          "library": "var_list.r",
          "varRefreshCmd": "cat(var_dic_list()) "
        }
      },
      "types_to_exclude": [
        "module",
        "function",
        "builtin_function_or_method",
        "instance",
        "_Feature"
      ],
      "window_display": false
    },
    "colab": {
      "name": "Feature Engineering.ipynb",
      "provenance": []
    }
  },
  "cells": [
    {
      "cell_type": "markdown",
      "source": [
        "**Note**: This notebook has been adapted from the one [here](https://github.com/Featuretools/predict-customer-churn/blob/master/churn/3.%20Feature%20Engineering.ipynb) to remove any dependencies on AWS and S3 so as to just focus on the featuretools functionality without requireming you to make an AWS account and set up the `aws` cli. You should check out the full repo for some other cool notebooks and examples using Spark and Dask."
      ],
      "metadata": {
        "id": "o-yGaPW-Xdbd"
      }
    },
    {
      "cell_type": "markdown",
      "source": [
        "<a href=\"https://colab.research.google.com/github/springboard-curriculum/featuretools/blob/master/Feature%20Engineering.ipynb\" target=\"_blank\"><img src=\"https://colab.research.google.com/assets/colab-badge.svg\" alt=\"Open In Colab\"/></a>"
      ],
      "metadata": {
        "id": "WpRDNCptXdbh"
      }
    },
    {
      "cell_type": "code",
      "execution_count": 1,
      "source": [
        "# uncomment and run below to install required libraries if need to\r\n",
        "#!pip install pandas==1.1.1 featuretools==0.4.0 tornado==5.0.0 dask==2.11.0 distributed==2.11.0"
      ],
      "outputs": [
        {
          "output_type": "stream",
          "name": "stdout",
          "text": [
            "Requirement already satisfied: pandas==1.1.1 in /usr/local/lib/python3.7/dist-packages (1.1.1)\n",
            "Requirement already satisfied: featuretools==0.4.0 in /usr/local/lib/python3.7/dist-packages (0.4.0)\n",
            "Requirement already satisfied: tornado==5.0.0 in /usr/local/lib/python3.7/dist-packages (5.0)\n",
            "Requirement already satisfied: dask==2.11.0 in /usr/local/lib/python3.7/dist-packages (2.11.0)\n",
            "Requirement already satisfied: distributed==2.11.0 in /usr/local/lib/python3.7/dist-packages (2.11.0)\n",
            "Requirement already satisfied: pytz>=2017.2 in /usr/local/lib/python3.7/dist-packages (from pandas==1.1.1) (2018.9)\n",
            "Requirement already satisfied: python-dateutil>=2.7.3 in /usr/local/lib/python3.7/dist-packages (from pandas==1.1.1) (2.8.2)\n",
            "Requirement already satisfied: numpy>=1.15.4 in /usr/local/lib/python3.7/dist-packages (from pandas==1.1.1) (1.19.5)\n",
            "Requirement already satisfied: toolz>=0.8.2 in /usr/local/lib/python3.7/dist-packages (from featuretools==0.4.0) (0.11.1)\n",
            "Requirement already satisfied: cloudpickle>=0.4.0 in /usr/local/lib/python3.7/dist-packages (from featuretools==0.4.0) (1.3.0)\n",
            "Requirement already satisfied: pyyaml>=3.12 in /usr/local/lib/python3.7/dist-packages (from featuretools==0.4.0) (3.13)\n",
            "Requirement already satisfied: psutil>=5.4.8 in /usr/local/lib/python3.7/dist-packages (from featuretools==0.4.0) (5.4.8)\n",
            "Requirement already satisfied: s3fs>=0.1.2 in /usr/local/lib/python3.7/dist-packages (from featuretools==0.4.0) (2021.10.0)\n",
            "Requirement already satisfied: tqdm>=4.19.2 in /usr/local/lib/python3.7/dist-packages (from featuretools==0.4.0) (4.62.3)\n",
            "Requirement already satisfied: future>=0.16.0 in /usr/local/lib/python3.7/dist-packages (from featuretools==0.4.0) (0.16.0)\n",
            "Requirement already satisfied: msgpack>=0.6.0 in /usr/local/lib/python3.7/dist-packages (from distributed==2.11.0) (1.0.2)\n",
            "Requirement already satisfied: setuptools in /usr/local/lib/python3.7/dist-packages (from distributed==2.11.0) (57.4.0)\n",
            "Requirement already satisfied: zict>=0.1.3 in /usr/local/lib/python3.7/dist-packages (from distributed==2.11.0) (2.0.0)\n",
            "Requirement already satisfied: tblib>=1.6.0 in /usr/local/lib/python3.7/dist-packages (from distributed==2.11.0) (1.7.0)\n",
            "Requirement already satisfied: sortedcontainers!=2.0.0,!=2.0.1 in /usr/local/lib/python3.7/dist-packages (from distributed==2.11.0) (2.4.0)\n",
            "Requirement already satisfied: click>=6.6 in /usr/local/lib/python3.7/dist-packages (from distributed==2.11.0) (7.1.2)\n",
            "Requirement already satisfied: six>=1.5 in /usr/local/lib/python3.7/dist-packages (from python-dateutil>=2.7.3->pandas==1.1.1) (1.15.0)\n",
            "Requirement already satisfied: fsspec==2021.10.0 in /usr/local/lib/python3.7/dist-packages (from s3fs>=0.1.2->featuretools==0.4.0) (2021.10.0)\n",
            "Requirement already satisfied: aiobotocore~=1.4.1 in /usr/local/lib/python3.7/dist-packages (from s3fs>=0.1.2->featuretools==0.4.0) (1.4.1)\n",
            "Requirement already satisfied: wrapt>=1.10.10 in /usr/local/lib/python3.7/dist-packages (from aiobotocore~=1.4.1->s3fs>=0.1.2->featuretools==0.4.0) (1.12.1)\n",
            "Requirement already satisfied: aioitertools>=0.5.1 in /usr/local/lib/python3.7/dist-packages (from aiobotocore~=1.4.1->s3fs>=0.1.2->featuretools==0.4.0) (0.8.0)\n",
            "Requirement already satisfied: botocore<1.20.107,>=1.20.106 in /usr/local/lib/python3.7/dist-packages (from aiobotocore~=1.4.1->s3fs>=0.1.2->featuretools==0.4.0) (1.20.106)\n",
            "Requirement already satisfied: aiohttp>=3.3.1 in /usr/local/lib/python3.7/dist-packages (from aiobotocore~=1.4.1->s3fs>=0.1.2->featuretools==0.4.0) (3.7.4.post0)\n",
            "Requirement already satisfied: yarl<2.0,>=1.0 in /usr/local/lib/python3.7/dist-packages (from aiohttp>=3.3.1->aiobotocore~=1.4.1->s3fs>=0.1.2->featuretools==0.4.0) (1.6.3)\n",
            "Requirement already satisfied: multidict<7.0,>=4.5 in /usr/local/lib/python3.7/dist-packages (from aiohttp>=3.3.1->aiobotocore~=1.4.1->s3fs>=0.1.2->featuretools==0.4.0) (5.1.0)\n",
            "Requirement already satisfied: chardet<5.0,>=2.0 in /usr/local/lib/python3.7/dist-packages (from aiohttp>=3.3.1->aiobotocore~=1.4.1->s3fs>=0.1.2->featuretools==0.4.0) (3.0.4)\n",
            "Requirement already satisfied: async-timeout<4.0,>=3.0 in /usr/local/lib/python3.7/dist-packages (from aiohttp>=3.3.1->aiobotocore~=1.4.1->s3fs>=0.1.2->featuretools==0.4.0) (3.0.1)\n",
            "Requirement already satisfied: typing-extensions>=3.6.5 in /usr/local/lib/python3.7/dist-packages (from aiohttp>=3.3.1->aiobotocore~=1.4.1->s3fs>=0.1.2->featuretools==0.4.0) (3.7.4.3)\n",
            "Requirement already satisfied: attrs>=17.3.0 in /usr/local/lib/python3.7/dist-packages (from aiohttp>=3.3.1->aiobotocore~=1.4.1->s3fs>=0.1.2->featuretools==0.4.0) (21.2.0)\n",
            "Requirement already satisfied: jmespath<1.0.0,>=0.7.1 in /usr/local/lib/python3.7/dist-packages (from botocore<1.20.107,>=1.20.106->aiobotocore~=1.4.1->s3fs>=0.1.2->featuretools==0.4.0) (0.10.0)\n",
            "Requirement already satisfied: urllib3<1.27,>=1.25.4 in /usr/local/lib/python3.7/dist-packages (from botocore<1.20.107,>=1.20.106->aiobotocore~=1.4.1->s3fs>=0.1.2->featuretools==0.4.0) (1.26.7)\n",
            "Requirement already satisfied: idna>=2.0 in /usr/local/lib/python3.7/dist-packages (from yarl<2.0,>=1.0->aiohttp>=3.3.1->aiobotocore~=1.4.1->s3fs>=0.1.2->featuretools==0.4.0) (2.10)\n",
            "Requirement already satisfied: heapdict in /usr/local/lib/python3.7/dist-packages (from zict>=0.1.3->distributed==2.11.0) (1.0.1)\n"
          ]
        }
      ],
      "metadata": {
        "id": "FBISK_QEXdbi",
        "outputId": "a261fe84-35fe-4a89-f69a-488e3646daaa",
        "colab": {
          "base_uri": "https://localhost:8080/"
        }
      }
    },
    {
      "cell_type": "markdown",
      "source": [
        "# Introduction: Automated Feature Engineering with Featuretools\n",
        "\n",
        "__Problem:__ we have a set of cutoff times and labels - in a label times table - and we need to build relevant features for each label using only data from before the cutoff time. Traditionally, we would do this by hand, a painstaking and error prone process that makes developing useable machine learning solutions extremely difficult. \n",
        "\n",
        "__Solution__: Use automated feature engineering as implemented in Featuretools to build hundreds or thousands of relevant features from a relational dataset with a reusable framework that also automatically filters the data based on the cutoff times. This approachs overcomes the limitations of manual feature engineering, letting us buidl better predictive models in a fraction of the time. \n",
        "\n",
        "The general process of feature engineering is shown below:\n",
        "\n",
        "![](https://github.com/springboard-curriculum/featuretools/blob/master/images/feature_engineering_process.png?raw=1)\n",
        "\n",
        "Currently, the only option for automated feature engineering using multiple related tables is [Featuretools](https://github.com/Featuretools/featuretools), an open-source Python library. \n",
        "\n",
        "![](https://github.com/springboard-curriculum/featuretools/blob/master/images/featuretools-logo.png?raw=1)\n",
        "\n",
        "In this notebook, we'll work with Featuretools to develop an automated feature engineering workflow for the customer churn dataset. The end outcome is a function that takes in a dataset and label times for customers and builds a feature matrix that can be used to train a machine learning model. Because we already partitioned the data into independent subsets (in `Partitioning Data`) we'll be able to apply this function to all of the partitions in parallel using Spark with PySpark.\n",
        "\n",
        "## Featuretools Resources\n",
        "\n",
        "We won't spend too much time on the basics of Featuretools here, so refer to the following sources for more information:\n",
        "\n",
        "* [Featuretools Documentation](https://docs.featuretools.com/)\n",
        "* [Featuretools GitHub](https://github.com/Featuretools/featuretools)\n",
        "* [Introductory tutorial on Featuretools](https://towardsdatascience.com/automated-feature-engineering-in-python-99baf11cc219)\n",
        "* [Why Automated Feature Engineering Will Change Machine Learning](https://towardsdatascience.com/why-automated-feature-engineering-will-change-the-way-you-do-machine-learning-5c15bf188b96)\n",
        "\n",
        "The basics are relatively easy to pick up, and if you're new, you can probably follow along with all the code here! Learning Featuretools requires only a few minutes and it can be applied to any relational dataset.\n",
        "\n",
        "\n",
        "With that in mind, let's get started."
      ],
      "metadata": {
        "id": "zJM1MaJ1Xdbj"
      }
    },
    {
      "cell_type": "code",
      "execution_count": 2,
      "source": [
        "# Data science helpers\n",
        "from pathlib import Path\n",
        "import pandas as pd \n",
        "import numpy as np\n",
        "\n",
        "import featuretools as ft\n",
        "\n",
        "# Useful for showing multiple outputs\n",
        "from IPython.core.interactiveshell import InteractiveShell\n",
        "InteractiveShell.ast_node_interactivity = \"all\"\n",
        "\n",
        "# make some folders we will need if they do not exist\n",
        "Path(\"./data/churn\").mkdir(parents=True, exist_ok=True)"
      ],
      "outputs": [],
      "metadata": {
        "id": "CFs7GofDXdbk"
      }
    },
    {
      "cell_type": "code",
      "execution_count": 3,
      "source": [
        "# Read in all data\n",
        "members = pd.read_csv('https://raw.githubusercontent.com/springboard-curriculum/featuretools/master/data/members.csv', \n",
        "                      parse_dates=['registration_init_time'], \n",
        "                      infer_datetime_format = True, \n",
        "                      dtype = {'gender': 'category'})\n",
        "\n",
        "trans = pd.read_csv('https://raw.githubusercontent.com/springboard-curriculum/featuretools/master/data/transactions.csv',\n",
        "                   parse_dates=['transaction_date', 'membership_expire_date'], \n",
        "                    infer_datetime_format = True)\n",
        "\n",
        "logs = pd.read_csv(f'https://raw.githubusercontent.com/springboard-curriculum/featuretools/master/data/logs.csv', parse_dates = ['date'])\n",
        "\n",
        "cutoff_times = pd.read_csv(f'https://raw.githubusercontent.com/springboard-curriculum/featuretools/master/data/MS-31_labels.csv', parse_dates = ['cutoff_time'])"
      ],
      "outputs": [],
      "metadata": {
        "id": "mDy6f32wXdbl"
      }
    },
    {
      "cell_type": "markdown",
      "source": [
        "The 3 data tables are represented by the following schema. \n",
        "\n",
        "![](https://github.com/springboard-curriculum/featuretools/blob/master/images/data_schema.png?raw=1)\n",
        "\n",
        "This schema is all the domain knowledge needed to perform automated feature engineering in Featuretools."
      ],
      "metadata": {
        "id": "lmSmbIDBXdbm"
      }
    },
    {
      "cell_type": "markdown",
      "source": [
        "# Define Entities and EntitySet\n",
        "\n",
        "The first step in using Featuretools is to make an `EntitySet` and add all the `entitys` - tables - to it. An EntitySet is a data structure that holds the tables and the relationships between them. This makes it easier to keep track of all the data in a problem with multiple relational tables."
      ],
      "metadata": {
        "id": "mfSDh1UoXdbm"
      }
    },
    {
      "cell_type": "code",
      "execution_count": 4,
      "source": [
        "import featuretools.variable_types as vtypes\n",
        "\n",
        "# Make empty entityset\n",
        "es = ft.EntitySet(id = 'customers')"
      ],
      "outputs": [],
      "metadata": {
        "id": "4dwclU1MXdbn"
      }
    },
    {
      "cell_type": "markdown",
      "source": [
        "## Entities\n",
        "\n",
        "When creating entities from a dataframe, we need to make sure to include:\n",
        "\n",
        "* The `index` if there is one or a name for the created index. This is a unique identifier for each observation.\n",
        "* `make_index = True` if there is no index, we need to supply a name under `index` and set this to `True`.\n",
        "* A `time_index` if present. This is the time at which the information in the row becomes known. Featuretools will use the `time_index` and the `cutoff_time` to make valid features for each label.\n",
        "* `variable_types`. In some cases our data will have variables for which we should specify the type. An example would be a boolean that is represented as a float. This prevents Featuretools from making features such as the `min` or `max` of a True/False varaibles.\n",
        "\n",
        "For this problem these are the only arguments we'll need. There are additional arguments that can be used as shown in [the documentation](https://docs.featuretools.com/api_reference.html#entityset-entity-relationship-variable-types). \n",
        "\n",
        "### Members Table\n",
        "\n",
        "The `members` table holds basic information about each customer. The important point for this table is to specify that the `city` and `registered_via` columns are discrete, categorical variables and not numerical and that `registration_init_time` is the `time_index`. The `msno` is the unique index identifying each customer. "
      ],
      "metadata": {
        "id": "_skROIQnXdbn"
      }
    },
    {
      "cell_type": "code",
      "execution_count": 5,
      "source": [
        "members.head()"
      ],
      "outputs": [
        {
          "output_type": "execute_result",
          "data": {
            "text/html": [
              "<div>\n",
              "<style scoped>\n",
              "    .dataframe tbody tr th:only-of-type {\n",
              "        vertical-align: middle;\n",
              "    }\n",
              "\n",
              "    .dataframe tbody tr th {\n",
              "        vertical-align: top;\n",
              "    }\n",
              "\n",
              "    .dataframe thead th {\n",
              "        text-align: right;\n",
              "    }\n",
              "</style>\n",
              "<table border=\"1\" class=\"dataframe\">\n",
              "  <thead>\n",
              "    <tr style=\"text-align: right;\">\n",
              "      <th></th>\n",
              "      <th>msno</th>\n",
              "      <th>city</th>\n",
              "      <th>bd</th>\n",
              "      <th>gender</th>\n",
              "      <th>registered_via</th>\n",
              "      <th>registration_init_time</th>\n",
              "    </tr>\n",
              "  </thead>\n",
              "  <tbody>\n",
              "    <tr>\n",
              "      <th>0</th>\n",
              "      <td>8hW4+CV3D1oNM0CIsA39YljsF8M3m7g1LAX6AQd3C8I=</td>\n",
              "      <td>4</td>\n",
              "      <td>24</td>\n",
              "      <td>male</td>\n",
              "      <td>3</td>\n",
              "      <td>2014-11-04</td>\n",
              "    </tr>\n",
              "    <tr>\n",
              "      <th>1</th>\n",
              "      <td>yhcODfebyTYezE6KAPklcV1us9zdOYJ+7eHS7f/xgoU=</td>\n",
              "      <td>8</td>\n",
              "      <td>37</td>\n",
              "      <td>male</td>\n",
              "      <td>9</td>\n",
              "      <td>2007-02-11</td>\n",
              "    </tr>\n",
              "    <tr>\n",
              "      <th>2</th>\n",
              "      <td>sBlgSL0AIq49XsmBQ2KceKZNUyIxT1BwSkN/xYQLGMc=</td>\n",
              "      <td>15</td>\n",
              "      <td>21</td>\n",
              "      <td>male</td>\n",
              "      <td>3</td>\n",
              "      <td>2013-02-08</td>\n",
              "    </tr>\n",
              "    <tr>\n",
              "      <th>3</th>\n",
              "      <td>Xy3Au8sZKlEeHBQ+C7ro8Ni3X/dxgrtmx0Tt+jqM1zY=</td>\n",
              "      <td>1</td>\n",
              "      <td>0</td>\n",
              "      <td>NaN</td>\n",
              "      <td>9</td>\n",
              "      <td>2015-02-01</td>\n",
              "    </tr>\n",
              "    <tr>\n",
              "      <th>4</th>\n",
              "      <td>NiCu2GVWgT5QZbI85oYRBEDqHUZbzz2azS48jvM+khg=</td>\n",
              "      <td>12</td>\n",
              "      <td>21</td>\n",
              "      <td>male</td>\n",
              "      <td>3</td>\n",
              "      <td>2015-02-12</td>\n",
              "    </tr>\n",
              "  </tbody>\n",
              "</table>\n",
              "</div>"
            ],
            "text/plain": [
              "                                           msno  ...  registration_init_time\n",
              "0  8hW4+CV3D1oNM0CIsA39YljsF8M3m7g1LAX6AQd3C8I=  ...              2014-11-04\n",
              "1  yhcODfebyTYezE6KAPklcV1us9zdOYJ+7eHS7f/xgoU=  ...              2007-02-11\n",
              "2  sBlgSL0AIq49XsmBQ2KceKZNUyIxT1BwSkN/xYQLGMc=  ...              2013-02-08\n",
              "3  Xy3Au8sZKlEeHBQ+C7ro8Ni3X/dxgrtmx0Tt+jqM1zY=  ...              2015-02-01\n",
              "4  NiCu2GVWgT5QZbI85oYRBEDqHUZbzz2azS48jvM+khg=  ...              2015-02-12\n",
              "\n",
              "[5 rows x 6 columns]"
            ]
          },
          "metadata": {},
          "execution_count": 5
        }
      ],
      "metadata": {
        "id": "kohsOdi3Xdbo",
        "outputId": "e5ee09b6-b3d8-479d-fa49-091706751fc6",
        "colab": {
          "base_uri": "https://localhost:8080/",
          "height": 206
        }
      }
    },
    {
      "cell_type": "code",
      "execution_count": 6,
      "source": [
        "members['msno'].is_unique"
      ],
      "outputs": [
        {
          "output_type": "execute_result",
          "data": {
            "text/plain": [
              "True"
            ]
          },
          "metadata": {},
          "execution_count": 6
        }
      ],
      "metadata": {
        "id": "4AM2S9SKXdbp",
        "outputId": "5d1f9dc4-6ab8-4307-f1ba-9592c4555d2d",
        "colab": {
          "base_uri": "https://localhost:8080/"
        }
      }
    },
    {
      "cell_type": "code",
      "execution_count": 7,
      "source": [
        "# Create entity from members\n",
        "es.entity_from_dataframe(entity_id='members', dataframe=members,\n",
        "                         index = 'msno', time_index = 'registration_init_time', \n",
        "                         variable_types = {'city': vtypes.Categorical, \n",
        "                                           'registered_via': vtypes.Categorical})"
      ],
      "outputs": [
        {
          "output_type": "execute_result",
          "data": {
            "text/plain": [
              "Entityset: customers\n",
              "  Entities:\n",
              "    members [Rows: 6658, Columns: 6]\n",
              "  Relationships:\n",
              "    No relationships"
            ]
          },
          "metadata": {},
          "execution_count": 7
        }
      ],
      "metadata": {
        "id": "SoGMxTA4Xdbp",
        "outputId": "d8abe727-3fde-45f3-bfa8-e2353e40230a",
        "colab": {
          "base_uri": "https://localhost:8080/"
        }
      }
    },
    {
      "cell_type": "markdown",
      "source": [
        "### Transactions Table\n",
        "\n",
        "The transactions table contains payments made by the customers. Each row records one payment. "
      ],
      "metadata": {
        "id": "vezsyzacXdbq"
      }
    },
    {
      "cell_type": "code",
      "execution_count": 8,
      "source": [
        "trans.head()"
      ],
      "outputs": [
        {
          "output_type": "execute_result",
          "data": {
            "text/html": [
              "<div>\n",
              "<style scoped>\n",
              "    .dataframe tbody tr th:only-of-type {\n",
              "        vertical-align: middle;\n",
              "    }\n",
              "\n",
              "    .dataframe tbody tr th {\n",
              "        vertical-align: top;\n",
              "    }\n",
              "\n",
              "    .dataframe thead th {\n",
              "        text-align: right;\n",
              "    }\n",
              "</style>\n",
              "<table border=\"1\" class=\"dataframe\">\n",
              "  <thead>\n",
              "    <tr style=\"text-align: right;\">\n",
              "      <th></th>\n",
              "      <th>msno</th>\n",
              "      <th>payment_method_id</th>\n",
              "      <th>payment_plan_days</th>\n",
              "      <th>plan_list_price</th>\n",
              "      <th>actual_amount_paid</th>\n",
              "      <th>is_auto_renew</th>\n",
              "      <th>transaction_date</th>\n",
              "      <th>membership_expire_date</th>\n",
              "      <th>is_cancel</th>\n",
              "    </tr>\n",
              "  </thead>\n",
              "  <tbody>\n",
              "    <tr>\n",
              "      <th>0</th>\n",
              "      <td>5F7G3pHKf5ijGQpoKuko0G7Jm3Bde6ktfPKBZySWoDI=</td>\n",
              "      <td>41</td>\n",
              "      <td>30</td>\n",
              "      <td>99</td>\n",
              "      <td>99</td>\n",
              "      <td>1</td>\n",
              "      <td>2017-02-10</td>\n",
              "      <td>2017-03-10</td>\n",
              "      <td>0</td>\n",
              "    </tr>\n",
              "    <tr>\n",
              "      <th>1</th>\n",
              "      <td>DQMPoCSc6EB39ytgnKCRsUIZnR6ZWSrHeDmX7nbxAKs=</td>\n",
              "      <td>41</td>\n",
              "      <td>30</td>\n",
              "      <td>149</td>\n",
              "      <td>149</td>\n",
              "      <td>1</td>\n",
              "      <td>2016-02-01</td>\n",
              "      <td>2016-03-02</td>\n",
              "      <td>0</td>\n",
              "    </tr>\n",
              "    <tr>\n",
              "      <th>2</th>\n",
              "      <td>Lrais3nsgqYwpfpSoyK3fHuPutf6cloTI5T5dQfs4lA=</td>\n",
              "      <td>38</td>\n",
              "      <td>30</td>\n",
              "      <td>149</td>\n",
              "      <td>149</td>\n",
              "      <td>0</td>\n",
              "      <td>2016-02-23</td>\n",
              "      <td>2016-04-23</td>\n",
              "      <td>0</td>\n",
              "    </tr>\n",
              "    <tr>\n",
              "      <th>3</th>\n",
              "      <td>ZPOjgxQw1/J7v5xgBJTCLXWuwq5Xmk33nO6AoUO1+mY=</td>\n",
              "      <td>41</td>\n",
              "      <td>30</td>\n",
              "      <td>149</td>\n",
              "      <td>119</td>\n",
              "      <td>1</td>\n",
              "      <td>2015-09-06</td>\n",
              "      <td>2016-08-01</td>\n",
              "      <td>0</td>\n",
              "    </tr>\n",
              "    <tr>\n",
              "      <th>4</th>\n",
              "      <td>MvR23u4bIiWM+U+VE1Mvw3qqdj/0Ixs1sf7avavjhRs=</td>\n",
              "      <td>38</td>\n",
              "      <td>30</td>\n",
              "      <td>149</td>\n",
              "      <td>149</td>\n",
              "      <td>0</td>\n",
              "      <td>2016-10-28</td>\n",
              "      <td>2016-11-27</td>\n",
              "      <td>0</td>\n",
              "    </tr>\n",
              "  </tbody>\n",
              "</table>\n",
              "</div>"
            ],
            "text/plain": [
              "                                           msno  ...  is_cancel\n",
              "0  5F7G3pHKf5ijGQpoKuko0G7Jm3Bde6ktfPKBZySWoDI=  ...          0\n",
              "1  DQMPoCSc6EB39ytgnKCRsUIZnR6ZWSrHeDmX7nbxAKs=  ...          0\n",
              "2  Lrais3nsgqYwpfpSoyK3fHuPutf6cloTI5T5dQfs4lA=  ...          0\n",
              "3  ZPOjgxQw1/J7v5xgBJTCLXWuwq5Xmk33nO6AoUO1+mY=  ...          0\n",
              "4  MvR23u4bIiWM+U+VE1Mvw3qqdj/0Ixs1sf7avavjhRs=  ...          0\n",
              "\n",
              "[5 rows x 9 columns]"
            ]
          },
          "metadata": {},
          "execution_count": 8
        }
      ],
      "metadata": {
        "id": "V5JzXUEPXdbq",
        "outputId": "95688a7b-a115-4cee-d0d4-074dba8f8381",
        "colab": {
          "base_uri": "https://localhost:8080/",
          "height": 206
        }
      }
    },
    {
      "cell_type": "code",
      "execution_count": 9,
      "source": [
        "import matplotlib.pyplot as plt\n",
        "%matplotlib inline\n",
        "plt.style.use('fivethirtyeight')\n",
        "plt.rcParams['figure.figsize'] = (10, 6)\n",
        "\n",
        "trans.loc[trans['actual_amount_paid'] < 250, 'actual_amount_paid'].dropna().plot.hist(bins = 30);\n",
        "plt.title('Distribution of Actual Amount Paid');"
      ],
      "outputs": [
        {
          "output_type": "display_data",
          "data": {
            "image/png": "[encoded data removed]",
            "text/plain": [
              "<Figure size 720x432 with 1 Axes>"
            ]
          },
          "metadata": {}
        }
      ],
      "metadata": {
        "id": "1B1EZl90Xdbq",
        "outputId": "e157a98d-3a13-46c5-e031-1d447bcfd0b3",
        "colab": {
          "base_uri": "https://localhost:8080/",
          "height": 419
        }
      }
    },
    {
      "cell_type": "markdown",
      "source": [
        "#### Domain Knowledge Features\n",
        "\n",
        "Before creating the entity from this dataframe, we can create a few new variables based on domain knowledge. Just because we are automatically going to make hundreds of features doesn't mean we can't use our own expertise. Featuretools will build on top of our knowledge by stacking more primitives on top of any variables that we define."
      ],
      "metadata": {
        "id": "dvfS0LFQXdbr"
      }
    },
    {
      "cell_type": "code",
      "execution_count": 10,
      "source": [
        "# Difference between listing price and price paid\n",
        "trans['price_difference'] = trans['plan_list_price'] - trans['actual_amount_paid']\n",
        "\n",
        "# Planned price per day\n",
        "trans['planned_daily_price'] = trans['plan_list_price'] / trans['payment_plan_days']\n",
        "\n",
        "# Actual price per day\n",
        "trans['daily_price'] = trans['actual_amount_paid'] / trans['payment_plan_days']\n",
        "\n",
        "trans.loc[trans['price_difference'] > 0, 'price_difference'].plot.hist(bins = 30, \n",
        "                                                                       figsize = (8, 6));\n",
        "plt.title('Dfiference between List Price and Price Paid');"
      ],
      "outputs": [
        {
          "output_type": "display_data",
          "data": {
            "image/png": "[encoded data removed]",
            "text/plain": [
              "<Figure size 576x432 with 1 Axes>"
            ]
          },
          "metadata": {}
        }
      ],
      "metadata": {
        "id": "ufE5NwNTXdbr",
        "outputId": "9d0f5df0-0ca0-4ab4-bfb9-c3c0c70efd8f",
        "colab": {
          "base_uri": "https://localhost:8080/",
          "height": 419
        }
      }
    },
    {
      "cell_type": "markdown",
      "source": [
        "There is no `index` in this dataframe so we have to specify to make an index and pass in a name. There is a `time_index`, the time of the transaction, which will be critical when filtering data based on cutoff times to make features. Again, we also need to specify several variable types.\n",
        "\n",
        "There is one slight anomaly with the transactions where some membership expire dates are after the transactions date, so we will filter those out."
      ],
      "metadata": {
        "id": "_XTsTAQaXdbr"
      }
    },
    {
      "cell_type": "code",
      "execution_count": 11,
      "source": [
        "# Filter anomalies\n",
        "trans = trans[trans['membership_expire_date'] > trans['transaction_date']]"
      ],
      "outputs": [],
      "metadata": {
        "id": "8j4JNug6Xdbr"
      }
    },
    {
      "cell_type": "code",
      "execution_count": 12,
      "source": [
        "# Create entity from transactions\n",
        "es.entity_from_dataframe(entity_id='transactions', dataframe=trans,\n",
        "                         index = 'transactions_index', make_index = True,\n",
        "                         time_index = 'transaction_date', \n",
        "                         variable_types = {'payment_method_id': vtypes.Categorical, \n",
        "                                           'is_auto_renew': vtypes.Boolean, 'is_cancel': vtypes.Boolean})"
      ],
      "outputs": [
        {
          "output_type": "execute_result",
          "data": {
            "text/plain": [
              "Entityset: customers\n",
              "  Entities:\n",
              "    members [Rows: 6658, Columns: 6]\n",
              "    transactions [Rows: 22329, Columns: 13]\n",
              "  Relationships:\n",
              "    No relationships"
            ]
          },
          "metadata": {},
          "execution_count": 12
        }
      ],
      "metadata": {
        "id": "GyED3sbbXdbs",
        "outputId": "571f1668-6e1f-47ca-a90e-1d612c1e688a",
        "colab": {
          "base_uri": "https://localhost:8080/"
        }
      }
    },
    {
      "cell_type": "markdown",
      "source": [
        "### Logs\n",
        "\n",
        "The `logs` contain user listening behavior. As before we'll make a few domain knowledge columns before adding to the `EntitySet`. "
      ],
      "metadata": {
        "id": "94TnU1_kXdbs"
      }
    },
    {
      "cell_type": "code",
      "execution_count": 13,
      "source": [
        "logs.head()"
      ],
      "outputs": [
        {
          "output_type": "execute_result",
          "data": {
            "text/html": [
              "<div>\n",
              "<style scoped>\n",
              "    .dataframe tbody tr th:only-of-type {\n",
              "        vertical-align: middle;\n",
              "    }\n",
              "\n",
              "    .dataframe tbody tr th {\n",
              "        vertical-align: top;\n",
              "    }\n",
              "\n",
              "    .dataframe thead th {\n",
              "        text-align: right;\n",
              "    }\n",
              "</style>\n",
              "<table border=\"1\" class=\"dataframe\">\n",
              "  <thead>\n",
              "    <tr style=\"text-align: right;\">\n",
              "      <th></th>\n",
              "      <th>msno</th>\n",
              "      <th>date</th>\n",
              "      <th>num_25</th>\n",
              "      <th>num_50</th>\n",
              "      <th>num_75</th>\n",
              "      <th>num_985</th>\n",
              "      <th>num_100</th>\n",
              "      <th>num_unq</th>\n",
              "      <th>total_secs</th>\n",
              "    </tr>\n",
              "  </thead>\n",
              "  <tbody>\n",
              "    <tr>\n",
              "      <th>0</th>\n",
              "      <td>6+/V1NwBbqjBOCvRSDueeJZ58F4DY7h7fG6fSZtHaAE=</td>\n",
              "      <td>2017-03-04</td>\n",
              "      <td>29</td>\n",
              "      <td>28</td>\n",
              "      <td>18</td>\n",
              "      <td>11</td>\n",
              "      <td>111</td>\n",
              "      <td>79</td>\n",
              "      <td>34727.142</td>\n",
              "    </tr>\n",
              "    <tr>\n",
              "      <th>1</th>\n",
              "      <td>E2aBGFTKR6jzp+1knh7JOOF39gLuu+CoZMWaAL/DA0M=</td>\n",
              "      <td>2017-03-27</td>\n",
              "      <td>1</td>\n",
              "      <td>0</td>\n",
              "      <td>2</td>\n",
              "      <td>0</td>\n",
              "      <td>184</td>\n",
              "      <td>173</td>\n",
              "      <td>33408.719</td>\n",
              "    </tr>\n",
              "    <tr>\n",
              "      <th>2</th>\n",
              "      <td>g7exJzakJlHXwzUydnShY5w24WXSwJyS6QqgoFeyr7g=</td>\n",
              "      <td>2017-03-15</td>\n",
              "      <td>0</td>\n",
              "      <td>0</td>\n",
              "      <td>0</td>\n",
              "      <td>0</td>\n",
              "      <td>21</td>\n",
              "      <td>21</td>\n",
              "      <td>4951.000</td>\n",
              "    </tr>\n",
              "    <tr>\n",
              "      <th>3</th>\n",
              "      <td>X+i9OmM3P42cETt5gPkOnz8vXGViQL5/M/NMiMQ+Olc=</td>\n",
              "      <td>2017-03-13</td>\n",
              "      <td>3</td>\n",
              "      <td>1</td>\n",
              "      <td>0</td>\n",
              "      <td>0</td>\n",
              "      <td>33</td>\n",
              "      <td>27</td>\n",
              "      <td>8755.599</td>\n",
              "    </tr>\n",
              "    <tr>\n",
              "      <th>4</th>\n",
              "      <td>tbl8blAVl6j4A8zW1Gnyg78Hc0LAQzzcYesmzgJ7ofs=</td>\n",
              "      <td>2017-03-27</td>\n",
              "      <td>6</td>\n",
              "      <td>5</td>\n",
              "      <td>0</td>\n",
              "      <td>0</td>\n",
              "      <td>2</td>\n",
              "      <td>6</td>\n",
              "      <td>1035.853</td>\n",
              "    </tr>\n",
              "  </tbody>\n",
              "</table>\n",
              "</div>"
            ],
            "text/plain": [
              "                                           msno       date  ...  num_unq  total_secs\n",
              "0  6+/V1NwBbqjBOCvRSDueeJZ58F4DY7h7fG6fSZtHaAE= 2017-03-04  ...       79   34727.142\n",
              "1  E2aBGFTKR6jzp+1knh7JOOF39gLuu+CoZMWaAL/DA0M= 2017-03-27  ...      173   33408.719\n",
              "2  g7exJzakJlHXwzUydnShY5w24WXSwJyS6QqgoFeyr7g= 2017-03-15  ...       21    4951.000\n",
              "3  X+i9OmM3P42cETt5gPkOnz8vXGViQL5/M/NMiMQ+Olc= 2017-03-13  ...       27    8755.599\n",
              "4  tbl8blAVl6j4A8zW1Gnyg78Hc0LAQzzcYesmzgJ7ofs= 2017-03-27  ...        6    1035.853\n",
              "\n",
              "[5 rows x 9 columns]"
            ]
          },
          "metadata": {},
          "execution_count": 13
        }
      ],
      "metadata": {
        "id": "s5s3PGPMXdbs",
        "outputId": "8df291a6-42fb-4b35-89d5-9cf3dae3ab8b",
        "colab": {
          "base_uri": "https://localhost:8080/",
          "height": 206
        }
      }
    },
    {
      "cell_type": "code",
      "execution_count": 14,
      "source": [
        "# Make a few features by hand\n",
        "logs['total'] = logs[['num_25', 'num_50', 'num_75', 'num_985', 'num_100']].sum(axis = 1)\n",
        "logs['percent_100'] = logs['num_100'] / logs['total']\n",
        "logs['percent_unique'] = logs['num_unq'] / logs['total']\n",
        "logs['seconds_per_song'] = logs['total_secs'] / logs['total'] \n",
        "\n",
        "import seaborn as sns\n",
        "\n",
        "sns.kdeplot(logs['total']);\n",
        "plt.title('Distribution of Total Number of Songs');"
      ],
      "outputs": [
        {
          "output_type": "display_data",
          "data": {
            "image/png": "[encoded data removed]",
            "text/plain": [
              "<Figure size 720x432 with 1 Axes>"
            ]
          },
          "metadata": {}
        }
      ],
      "metadata": {
        "id": "VrMdKV4FXdbt",
        "outputId": "dc1859b6-00ec-4752-8230-584eaf1ca3d4",
        "colab": {
          "base_uri": "https://localhost:8080/",
          "height": 441
        }
      }
    },
    {
      "cell_type": "code",
      "execution_count": 15,
      "source": [
        "sns.kdeplot(logs['percent_100']);\n",
        "plt.title('Distribution of Percentage of Songs Listened to Completion');"
      ],
      "outputs": [
        {
          "output_type": "display_data",
          "data": {
            "image/png": "[encoded data removed]",
            "text/plain": [
              "<Figure size 720x432 with 1 Axes>"
            ]
          },
          "metadata": {}
        }
      ],
      "metadata": {
        "id": "qZo13Om6Xdbt",
        "outputId": "1aad1d23-e024-4a7c-c761-388bb6524a48",
        "colab": {
          "base_uri": "https://localhost:8080/",
          "height": 441
        }
      }
    },
    {
      "cell_type": "markdown",
      "source": [
        "There is `time_index` in the logs although no `index` present."
      ],
      "metadata": {
        "id": "c488gqKwXdbt"
      }
    },
    {
      "cell_type": "code",
      "execution_count": 16,
      "source": [
        "es.entity_from_dataframe(entity_id='logs', dataframe=logs,\n",
        "                         index = 'logs_index', make_index = True,\n",
        "                         time_index = 'date')"
      ],
      "outputs": [
        {
          "output_type": "execute_result",
          "data": {
            "text/plain": [
              "Entityset: customers\n",
              "  Entities:\n",
              "    members [Rows: 6658, Columns: 6]\n",
              "    transactions [Rows: 22329, Columns: 13]\n",
              "    logs [Rows: 424252, Columns: 14]\n",
              "  Relationships:\n",
              "    No relationships"
            ]
          },
          "metadata": {},
          "execution_count": 16
        }
      ],
      "metadata": {
        "id": "LNpWT3rGXdbt",
        "outputId": "f7d44565-2ab0-45c3-aa80-357e3851db3c",
        "colab": {
          "base_uri": "https://localhost:8080/"
        }
      }
    },
    {
      "cell_type": "markdown",
      "source": [
        "Making features by hand may seem counterintuitive if we are using automated feature engineering, but the benefits of doing this before using Featuretools is that these features can be stacked on top of to build deep features. Automated feature engineering will therefore take our existing hand-built features and extract more value from them by combining them with other features.\n",
        "\n",
        "Another method to improve the power of deep feature synthesis is through interesting values, which specify conditional statements used to build features."
      ],
      "metadata": {
        "id": "QbMgNnLKXdbu"
      }
    },
    {
      "cell_type": "markdown",
      "source": [
        "### Interesting Values\n",
        "\n",
        "In order to create conditional features, we can set interesting values for existing columns in the data. The following code will be used to build features conditional on the value of `is_cancel` and `is_auto_renew` in the transactions data. The primitives used for the conditional features are specified as `where_primitives` in the call to Deep Feature Synthesis. For example, if we used a `mean` primitive along with the following interesting values, we will get a mean of transactions where the transaction was cancelled, as well as the mean of transactions where the transaction was not cancelled. "
      ],
      "metadata": {
        "id": "aumY0VcIXdbu"
      }
    },
    {
      "cell_type": "code",
      "execution_count": 17,
      "source": [
        "es['transactions']['is_cancel'].interesting_values = [0, 1]\n",
        "es['transactions']['is_auto_renew'].interesting_values = [0, 1]"
      ],
      "outputs": [],
      "metadata": {
        "id": "_6ATE1eTXdbu"
      }
    },
    {
      "cell_type": "markdown",
      "source": [
        "# Relationships\n",
        "\n",
        "Table relationships should be familiar to anyone who has worked with relational databases and the idea is the same in Featuretools. We use relationships to specify how examples in one table relate to examples in other tables. The entityset structure for this problem is fairly simple as there are only three entities with two relationships.  `members` is the parent of `logs` and `transactions`. In both relationships, the parent and child variable is `msno`, the customer id.\n",
        "\n",
        "The two relationships are: one linking `members` to `transactions` and one linking `members` to `logs`. The order for relationships in featuretools is parent variable, child variable."
      ],
      "metadata": {
        "id": "nSigxZX_Xdbu"
      }
    },
    {
      "cell_type": "code",
      "execution_count": 18,
      "source": [
        "# Relationships (parent, child)\n",
        "r_member_transactions = ft.Relationship(es['members']['msno'], es['transactions']['msno'])\n",
        "r_member_logs = ft.Relationship(es['members']['msno'], es['logs']['msno'])\n",
        "\n",
        "es.add_relationships([r_member_transactions, r_member_logs])"
      ],
      "outputs": [
        {
          "output_type": "execute_result",
          "data": {
            "text/plain": [
              "Entityset: customers\n",
              "  Entities:\n",
              "    members [Rows: 6658, Columns: 6]\n",
              "    transactions [Rows: 22329, Columns: 13]\n",
              "    logs [Rows: 424252, Columns: 14]\n",
              "  Relationships:\n",
              "    transactions.msno -> members.msno\n",
              "    logs.msno -> members.msno"
            ]
          },
          "metadata": {},
          "execution_count": 18
        }
      ],
      "metadata": {
        "id": "mIQCuNjCXdbv",
        "outputId": "59cf42b8-924d-400d-d63e-8f3f6e67f7df",
        "colab": {
          "base_uri": "https://localhost:8080/"
        }
      }
    },
    {
      "cell_type": "markdown",
      "source": [
        "### Cutoff Times\n",
        "\n",
        "`cutoff_times` are a critical piece of any time based machine learning problem. The label times dataframe has columns of member id, cutoff time, and label. __For each cutoff time, only data from before the cutoff time can be used to build features for that label.__ This is one of the greatest advantages of Featuretools compared to manual feature engineering: __Featuretools automatically filters our data based on the cutoff times to ensure that all the features are valid for machine learning.__ Normally, we would have to take extreme care to make sure all of our features are valid, but Featreutools is able to implement the filtering logic behind the scenes for us.\n",
        "\n",
        "All we have to do is make sure to pass in the correct label times for the prediction problem we want to solve."
      ],
      "metadata": {
        "id": "XCHEopKzXdbv"
      }
    },
    {
      "cell_type": "code",
      "execution_count": 19,
      "source": [
        "cutoff_times = cutoff_times.drop_duplicates(subset = ['msno', 'cutoff_time'])\n",
        "cutoff_times.head()"
      ],
      "outputs": [
        {
          "output_type": "execute_result",
          "data": {
            "text/html": [
              "<div>\n",
              "<style scoped>\n",
              "    .dataframe tbody tr th:only-of-type {\n",
              "        vertical-align: middle;\n",
              "    }\n",
              "\n",
              "    .dataframe tbody tr th {\n",
              "        vertical-align: top;\n",
              "    }\n",
              "\n",
              "    .dataframe thead th {\n",
              "        text-align: right;\n",
              "    }\n",
              "</style>\n",
              "<table border=\"1\" class=\"dataframe\">\n",
              "  <thead>\n",
              "    <tr style=\"text-align: right;\">\n",
              "      <th></th>\n",
              "      <th>msno</th>\n",
              "      <th>cutoff_time</th>\n",
              "      <th>label</th>\n",
              "      <th>days_to_churn</th>\n",
              "      <th>churn_date</th>\n",
              "    </tr>\n",
              "  </thead>\n",
              "  <tbody>\n",
              "    <tr>\n",
              "      <th>0</th>\n",
              "      <td>++bK0FRJecXCogqXdjtO2Kyb3jq7uLM7qThTk+nN8tE=</td>\n",
              "      <td>2015-08-01</td>\n",
              "      <td>0.0</td>\n",
              "      <td>NaN</td>\n",
              "      <td>NaN</td>\n",
              "    </tr>\n",
              "    <tr>\n",
              "      <th>1</th>\n",
              "      <td>++bK0FRJecXCogqXdjtO2Kyb3jq7uLM7qThTk+nN8tE=</td>\n",
              "      <td>2015-09-01</td>\n",
              "      <td>0.0</td>\n",
              "      <td>NaN</td>\n",
              "      <td>NaN</td>\n",
              "    </tr>\n",
              "    <tr>\n",
              "      <th>2</th>\n",
              "      <td>++bK0FRJecXCogqXdjtO2Kyb3jq7uLM7qThTk+nN8tE=</td>\n",
              "      <td>2015-10-01</td>\n",
              "      <td>0.0</td>\n",
              "      <td>NaN</td>\n",
              "      <td>NaN</td>\n",
              "    </tr>\n",
              "    <tr>\n",
              "      <th>3</th>\n",
              "      <td>++bK0FRJecXCogqXdjtO2Kyb3jq7uLM7qThTk+nN8tE=</td>\n",
              "      <td>2015-11-01</td>\n",
              "      <td>0.0</td>\n",
              "      <td>NaN</td>\n",
              "      <td>NaN</td>\n",
              "    </tr>\n",
              "    <tr>\n",
              "      <th>4</th>\n",
              "      <td>++bK0FRJecXCogqXdjtO2Kyb3jq7uLM7qThTk+nN8tE=</td>\n",
              "      <td>2015-12-01</td>\n",
              "      <td>0.0</td>\n",
              "      <td>NaN</td>\n",
              "      <td>NaN</td>\n",
              "    </tr>\n",
              "  </tbody>\n",
              "</table>\n",
              "</div>"
            ],
            "text/plain": [
              "                                           msno  ... churn_date\n",
              "0  ++bK0FRJecXCogqXdjtO2Kyb3jq7uLM7qThTk+nN8tE=  ...        NaN\n",
              "1  ++bK0FRJecXCogqXdjtO2Kyb3jq7uLM7qThTk+nN8tE=  ...        NaN\n",
              "2  ++bK0FRJecXCogqXdjtO2Kyb3jq7uLM7qThTk+nN8tE=  ...        NaN\n",
              "3  ++bK0FRJecXCogqXdjtO2Kyb3jq7uLM7qThTk+nN8tE=  ...        NaN\n",
              "4  ++bK0FRJecXCogqXdjtO2Kyb3jq7uLM7qThTk+nN8tE=  ...        NaN\n",
              "\n",
              "[5 rows x 5 columns]"
            ]
          },
          "metadata": {},
          "execution_count": 19
        }
      ],
      "metadata": {
        "id": "yMHosb7cXdbv",
        "outputId": "49a5a1c7-dedf-4d74-9db4-7464a9fbe806",
        "colab": {
          "base_uri": "https://localhost:8080/",
          "height": 206
        }
      }
    },
    {
      "cell_type": "markdown",
      "source": [
        "# Deep Feature Synthesis\n",
        "\n",
        "With the entities and relationships fully defined, we are ready to run [Deep Feature Synthesis (DFS)](https://www.featurelabs.com/blog/deep-feature-synthesis/). This process applies feature engineering building blocks called [feature primitives](https://docs.featuretools.com/automated_feature_engineering/primitives.html) to a dataset to build hundreds of features. Feature primitives are basic operations of two types - transforms and aggregations - that stack to build deep features (for more information see the previous linked resources). These includes many operations that we would traditionally carry out by hand, but automated feature engineering saves us from having to implement these features one at a time. \n",
        "\n",
        "The call to `ft.dfs` needs the entityset which holds all the tables and relationships between them, the `target_entity` to make features for, the specific primitives, the maximum stacking of primitives (`max_depth`), the `cutoff_times`, and a number of optional parameters.\n",
        "\n",
        "To start, we'll use the default aggregation and transformation primitives as well as two `where_primitives` and see how many features this generates. To only generate the definitions of the features, we pass in `features_only = True`.\n",
        "\n",
        "For full details on Deep Feature Synthesis, take a look at [the documentation](https://docs.featuretools.com/api_reference.html#deep-feature-synthesis). "
      ],
      "metadata": {
        "id": "qd0UcCL5Xdbv"
      }
    },
    {
      "cell_type": "code",
      "execution_count": 20,
      "source": [
        "feature_defs = ft.dfs(entityset=es, target_entity='members', \n",
        "                      cutoff_time = cutoff_times,\n",
        "                      where_primitives = ['sum', 'mean'],\n",
        "                      max_depth=2, features_only=True)"
      ],
      "outputs": [],
      "metadata": {
        "id": "38q_07XuXdbw"
      }
    },
    {
      "cell_type": "code",
      "execution_count": 21,
      "source": [
        "print(f'This will generate {len(feature_defs)} features.')"
      ],
      "outputs": [
        {
          "output_type": "stream",
          "name": "stdout",
          "text": [
            "This will generate 188 features.\n"
          ]
        }
      ],
      "metadata": {
        "id": "F6aO2I8xXdbw",
        "outputId": "5afc468c-5b86-4873-efca-62ddd5648169",
        "colab": {
          "base_uri": "https://localhost:8080/"
        }
      }
    },
    {
      "cell_type": "code",
      "execution_count": 22,
      "source": [
        "import random; random.seed(42)\n",
        "\n",
        "random.sample(feature_defs, 10)"
      ],
      "outputs": [
        {
          "output_type": "execute_result",
          "data": {
            "text/plain": [
              "[<Feature: MEAN(transactions.price_difference WHERE is_auto_renew = 0)>,\n",
              " <Feature: MAX(logs.num_75)>,\n",
              " <Feature: SUM(logs.num_75)>,\n",
              " <Feature: COUNT(logs)>,\n",
              " <Feature: MEAN(logs.num_985)>,\n",
              " <Feature: MIN(logs.percent_unique)>,\n",
              " <Feature: MAX(logs.percent_unique)>,\n",
              " <Feature: MAX(logs.num_25)>,\n",
              " <Feature: NUM_UNIQUE(transactions.DAY(membership_expire_date))>,\n",
              " <Feature: SUM(transactions.price_difference WHERE is_auto_renew = 0)>]"
            ]
          },
          "metadata": {},
          "execution_count": 22
        }
      ],
      "metadata": {
        "id": "oUbS4dxnXdbw",
        "outputId": "ec1e595c-e3df-4a20-d21d-df972df7c872",
        "colab": {
          "base_uri": "https://localhost:8080/"
        }
      }
    },
    {
      "cell_type": "markdown",
      "source": [
        "We can see that Featuretools has built almost 200 features automatically for us using the table relationships and feature primitives. If built by hand, each of these features would require minutes of work, totaling many hours to build 188 features. Moreover, although the features are not necessarily intuitive, they are easy to explain in natural language because they are simple operations stacked on top of each other."
      ],
      "metadata": {
        "id": "QGWvGfjZXdbw"
      }
    },
    {
      "cell_type": "markdown",
      "source": [
        "## Specify Primitives \n",
        "\n",
        "Now we'll do a call to `ft.dfs` specifying the primitives to use. Often, these will depend on the problem and can involve domain knowledge. The best way to choose primitives is by trying out a variety and seeing which perform the best. Like many operations in machine learning, choosing primitives is still largely an empirical, rather than theoretical, practice."
      ],
      "metadata": {
        "id": "EWDwdwEpXdbw"
      }
    },
    {
      "cell_type": "markdown",
      "source": [
        "### Aggregation Primitives"
      ],
      "metadata": {
        "id": "Wau9iUp7Xdbw"
      }
    },
    {
      "cell_type": "code",
      "execution_count": 23,
      "source": [
        "all_p = ft.list_primitives()\n",
        "trans_p = all_p.loc[all_p['type'] == 'transform'].copy()\n",
        "agg_p = all_p.loc[all_p['type'] == 'aggregation'].copy()\n",
        "\n",
        "pd.options.display.max_colwidth = 100\n",
        "agg_p.head()"
      ],
      "outputs": [
        {
          "output_type": "execute_result",
          "data": {
            "text/html": [
              "<div>\n",
              "<style scoped>\n",
              "    .dataframe tbody tr th:only-of-type {\n",
              "        vertical-align: middle;\n",
              "    }\n",
              "\n",
              "    .dataframe tbody tr th {\n",
              "        vertical-align: top;\n",
              "    }\n",
              "\n",
              "    .dataframe thead th {\n",
              "        text-align: right;\n",
              "    }\n",
              "</style>\n",
              "<table border=\"1\" class=\"dataframe\">\n",
              "  <thead>\n",
              "    <tr style=\"text-align: right;\">\n",
              "      <th></th>\n",
              "      <th>name</th>\n",
              "      <th>type</th>\n",
              "      <th>description</th>\n",
              "    </tr>\n",
              "  </thead>\n",
              "  <tbody>\n",
              "    <tr>\n",
              "      <th>0</th>\n",
              "      <td>all</td>\n",
              "      <td>aggregation</td>\n",
              "      <td>Test if all values are 'True'.</td>\n",
              "    </tr>\n",
              "    <tr>\n",
              "      <th>1</th>\n",
              "      <td>last</td>\n",
              "      <td>aggregation</td>\n",
              "      <td>Returns the last value.</td>\n",
              "    </tr>\n",
              "    <tr>\n",
              "      <th>2</th>\n",
              "      <td>trend</td>\n",
              "      <td>aggregation</td>\n",
              "      <td>Calculates the slope of the linear trend of variable overtime.</td>\n",
              "    </tr>\n",
              "    <tr>\n",
              "      <th>3</th>\n",
              "      <td>skew</td>\n",
              "      <td>aggregation</td>\n",
              "      <td>Computes the skewness of a data set.</td>\n",
              "    </tr>\n",
              "    <tr>\n",
              "      <th>4</th>\n",
              "      <td>avg_time_between</td>\n",
              "      <td>aggregation</td>\n",
              "      <td>Computes the average time between consecutive events.</td>\n",
              "    </tr>\n",
              "  </tbody>\n",
              "</table>\n",
              "</div>"
            ],
            "text/plain": [
              "               name  ...                                                     description\n",
              "0               all  ...                                  Test if all values are 'True'.\n",
              "1              last  ...                                         Returns the last value.\n",
              "2             trend  ...  Calculates the slope of the linear trend of variable overtime.\n",
              "3              skew  ...                            Computes the skewness of a data set.\n",
              "4  avg_time_between  ...           Computes the average time between consecutive events.\n",
              "\n",
              "[5 rows x 3 columns]"
            ]
          },
          "metadata": {},
          "execution_count": 23
        }
      ],
      "metadata": {
        "id": "3iN426UVXdbx",
        "outputId": "9981843a-b397-488d-a80d-43d3f67f1d4b",
        "colab": {
          "base_uri": "https://localhost:8080/",
          "height": 206
        }
      }
    },
    {
      "cell_type": "code",
      "execution_count": 24,
      "source": [
        "# Specify aggregation primitives\n",
        "agg_primitives = ['sum', 'time_since_last', 'avg_time_between', 'all', 'mode', 'num_unique', 'min', 'last', \n",
        "                  'mean', 'percent_true', 'max', 'std', 'count']"
      ],
      "outputs": [],
      "metadata": {
        "id": "Aw4czeYhXdbx"
      }
    },
    {
      "cell_type": "markdown",
      "source": [
        "## Transform Primitives"
      ],
      "metadata": {
        "id": "0FO46VbuXdbx"
      }
    },
    {
      "cell_type": "code",
      "execution_count": 25,
      "source": [
        "trans_p.tail()"
      ],
      "outputs": [
        {
          "output_type": "execute_result",
          "data": {
            "text/html": [
              "<div>\n",
              "<style scoped>\n",
              "    .dataframe tbody tr th:only-of-type {\n",
              "        vertical-align: middle;\n",
              "    }\n",
              "\n",
              "    .dataframe tbody tr th {\n",
              "        vertical-align: top;\n",
              "    }\n",
              "\n",
              "    .dataframe thead th {\n",
              "        text-align: right;\n",
              "    }\n",
              "</style>\n",
              "<table border=\"1\" class=\"dataframe\">\n",
              "  <thead>\n",
              "    <tr style=\"text-align: right;\">\n",
              "      <th></th>\n",
              "      <th>name</th>\n",
              "      <th>type</th>\n",
              "      <th>description</th>\n",
              "    </tr>\n",
              "  </thead>\n",
              "  <tbody>\n",
              "    <tr>\n",
              "      <th>57</th>\n",
              "      <td>add</td>\n",
              "      <td>transform</td>\n",
              "      <td>Creates a transform feature that adds two features.</td>\n",
              "    </tr>\n",
              "    <tr>\n",
              "      <th>58</th>\n",
              "      <td>cum_mean</td>\n",
              "      <td>transform</td>\n",
              "      <td>Calculates the mean of previous values of an instance for each value in a time-dependent entity.</td>\n",
              "    </tr>\n",
              "    <tr>\n",
              "      <th>59</th>\n",
              "      <td>is_null</td>\n",
              "      <td>transform</td>\n",
              "      <td>For each value of base feature, return 'True' if value is null.</td>\n",
              "    </tr>\n",
              "    <tr>\n",
              "      <th>60</th>\n",
              "      <td>year</td>\n",
              "      <td>transform</td>\n",
              "      <td>Transform a Datetime feature into the year.</td>\n",
              "    </tr>\n",
              "    <tr>\n",
              "      <th>61</th>\n",
              "      <td>month</td>\n",
              "      <td>transform</td>\n",
              "      <td>Transform a Datetime feature into the month.</td>\n",
              "    </tr>\n",
              "  </tbody>\n",
              "</table>\n",
              "</div>"
            ],
            "text/plain": [
              "        name  ...                                                                                       description\n",
              "57       add  ...                                               Creates a transform feature that adds two features.\n",
              "58  cum_mean  ...  Calculates the mean of previous values of an instance for each value in a time-dependent entity.\n",
              "59   is_null  ...                                   For each value of base feature, return 'True' if value is null.\n",
              "60      year  ...                                                       Transform a Datetime feature into the year.\n",
              "61     month  ...                                                      Transform a Datetime feature into the month.\n",
              "\n",
              "[5 rows x 3 columns]"
            ]
          },
          "metadata": {},
          "execution_count": 25
        }
      ],
      "metadata": {
        "id": "dLWHJXTLXdbx",
        "outputId": "90fe1c6a-d64c-43b6-b1a0-8a524695de25",
        "colab": {
          "base_uri": "https://localhost:8080/",
          "height": 206
        }
      }
    },
    {
      "cell_type": "code",
      "execution_count": 26,
      "source": [
        "# Specify transformation primitives\n",
        "trans_primitives = ['weekend', 'cum_sum', 'day', 'month', 'diff', 'time_since_previous']"
      ],
      "outputs": [],
      "metadata": {
        "id": "w3JQ1pIcXdbx"
      }
    },
    {
      "cell_type": "markdown",
      "source": [
        "### Where Primitives\n",
        "\n",
        "These primitives are applied to the `interesting_values` to build conditional features. "
      ],
      "metadata": {
        "id": "fadA7Pz5Xdbx"
      }
    },
    {
      "cell_type": "code",
      "execution_count": 27,
      "source": [
        "# Specify where primitives\n",
        "where_primitives = ['sum', 'mean', 'percent_true', 'all', 'any']"
      ],
      "outputs": [],
      "metadata": {
        "id": "3AqAzMhuXdbx"
      }
    },
    {
      "cell_type": "markdown",
      "source": [
        "## Custom Primitives\n",
        "\n",
        "[Custom primitives](https://docs.featuretools.com/automated_feature_engineering/primitives.html#defining-custom-primitives) are one of the most powerful options in Featuretools. We use custom primitives to write our own functions based on domain knowledge and then pass them to `dfs` like any other primitives. Featuretools will then stack our custom primitives with the other primitives, again, in effect, amplifying our domain knowledge.\n",
        "\n",
        "For this problem, I wrote a custom primitive that calculates the sum of a value in the month prior to the cutoff time. This is actually a primitive I [wrote for another problem](https://github.com/Featuretools/Automated-Manual-Comparison/tree/master/Retail%20Spending) but I can apply it to this problem because primitives are data agnostic. That's one of the benefits of feature primitives: they can work for any problem and writing a custom primitive will pay off many times over."
      ],
      "metadata": {
        "id": "82zoe1tOXdby"
      }
    },
    {
      "cell_type": "code",
      "execution_count": 28,
      "source": [
        "from featuretools.primitives import make_agg_primitive\n",
        "\n",
        "def total_previous_month(numeric, datetime, time):\n",
        "    \"\"\"Return total of `numeric` column in the month prior to `time`.\"\"\"\n",
        "    df = pd.DataFrame({'value': numeric, 'date': datetime})\n",
        "    previous_month = time.month - 1\n",
        "    year = time.year\n",
        "   \n",
        "    # Handle January\n",
        "    if previous_month == 0:\n",
        "        previous_month = 12\n",
        "        year = time.year - 1\n",
        "        \n",
        "    # Filter data and sum up total\n",
        "    df = df[(df['date'].dt.month == previous_month) & (df['date'].dt.year == year)]\n",
        "    total = df['value'].sum()\n",
        "    \n",
        "    return total"
      ],
      "outputs": [],
      "metadata": {
        "id": "9W-LZ_QmXdby"
      }
    },
    {
      "cell_type": "code",
      "execution_count": 29,
      "source": [
        "numeric = [10, 12, 14, 15, 19, 22, 9, 8, 8, 11]\n",
        "dates = pd.date_range('2018-01-01', '2018-03-01', periods = len(numeric))\n",
        "pd.DataFrame({'value': numeric, 'date': dates}).head(6)\n",
        "total_previous_month(numeric, dates, pd.datetime(2018, 2, 1))"
      ],
      "outputs": [
        {
          "output_type": "execute_result",
          "data": {
            "text/html": [
              "<div>\n",
              "<style scoped>\n",
              "    .dataframe tbody tr th:only-of-type {\n",
              "        vertical-align: middle;\n",
              "    }\n",
              "\n",
              "    .dataframe tbody tr th {\n",
              "        vertical-align: top;\n",
              "    }\n",
              "\n",
              "    .dataframe thead th {\n",
              "        text-align: right;\n",
              "    }\n",
              "</style>\n",
              "<table border=\"1\" class=\"dataframe\">\n",
              "  <thead>\n",
              "    <tr style=\"text-align: right;\">\n",
              "      <th></th>\n",
              "      <th>value</th>\n",
              "      <th>date</th>\n",
              "    </tr>\n",
              "  </thead>\n",
              "  <tbody>\n",
              "    <tr>\n",
              "      <th>0</th>\n",
              "      <td>10</td>\n",
              "      <td>2018-01-01 00:00:00</td>\n",
              "    </tr>\n",
              "    <tr>\n",
              "      <th>1</th>\n",
              "      <td>12</td>\n",
              "      <td>2018-01-07 13:20:00</td>\n",
              "    </tr>\n",
              "    <tr>\n",
              "      <th>2</th>\n",
              "      <td>14</td>\n",
              "      <td>2018-01-14 02:40:00</td>\n",
              "    </tr>\n",
              "    <tr>\n",
              "      <th>3</th>\n",
              "      <td>15</td>\n",
              "      <td>2018-01-20 16:00:00</td>\n",
              "    </tr>\n",
              "    <tr>\n",
              "      <th>4</th>\n",
              "      <td>19</td>\n",
              "      <td>2018-01-27 05:20:00</td>\n",
              "    </tr>\n",
              "    <tr>\n",
              "      <th>5</th>\n",
              "      <td>22</td>\n",
              "      <td>2018-02-02 18:40:00</td>\n",
              "    </tr>\n",
              "  </tbody>\n",
              "</table>\n",
              "</div>"
            ],
            "text/plain": [
              "   value                date\n",
              "0     10 2018-01-01 00:00:00\n",
              "1     12 2018-01-07 13:20:00\n",
              "2     14 2018-01-14 02:40:00\n",
              "3     15 2018-01-20 16:00:00\n",
              "4     19 2018-01-27 05:20:00\n",
              "5     22 2018-02-02 18:40:00"
            ]
          },
          "metadata": {},
          "execution_count": 29
        },
        {
          "output_type": "stream",
          "name": "stderr",
          "text": [
            "/usr/local/lib/python3.7/dist-packages/ipykernel_launcher.py:4: FutureWarning: The pandas.datetime class is deprecated and will be removed from pandas in a future version. Import from datetime module instead.\n",
            "  after removing the cwd from sys.path.\n"
          ]
        },
        {
          "output_type": "execute_result",
          "data": {
            "text/plain": [
              "70"
            ]
          },
          "metadata": {},
          "execution_count": 29
        }
      ],
      "metadata": {
        "id": "SIo893YcXdby",
        "outputId": "130e3cc6-d1a2-4b55-c02a-33ca1d80d952",
        "colab": {
          "base_uri": "https://localhost:8080/",
          "height": 290
        }
      }
    },
    {
      "cell_type": "code",
      "execution_count": 30,
      "source": [
        "numeric = [10, 12, 14, 5, 7, 8]\n",
        "dates = pd.date_range('2018-01-01', '2018-03-01', periods = len(numeric))\n",
        "pd.DataFrame({'value': numeric, 'date': dates}).head(6)\n",
        "total_previous_month(numeric, dates, pd.datetime(2018, 3, 1))"
      ],
      "outputs": [
        {
          "output_type": "execute_result",
          "data": {
            "text/html": [
              "<div>\n",
              "<style scoped>\n",
              "    .dataframe tbody tr th:only-of-type {\n",
              "        vertical-align: middle;\n",
              "    }\n",
              "\n",
              "    .dataframe tbody tr th {\n",
              "        vertical-align: top;\n",
              "    }\n",
              "\n",
              "    .dataframe thead th {\n",
              "        text-align: right;\n",
              "    }\n",
              "</style>\n",
              "<table border=\"1\" class=\"dataframe\">\n",
              "  <thead>\n",
              "    <tr style=\"text-align: right;\">\n",
              "      <th></th>\n",
              "      <th>value</th>\n",
              "      <th>date</th>\n",
              "    </tr>\n",
              "  </thead>\n",
              "  <tbody>\n",
              "    <tr>\n",
              "      <th>0</th>\n",
              "      <td>10</td>\n",
              "      <td>2018-01-01 00:00:00</td>\n",
              "    </tr>\n",
              "    <tr>\n",
              "      <th>1</th>\n",
              "      <td>12</td>\n",
              "      <td>2018-01-12 19:12:00</td>\n",
              "    </tr>\n",
              "    <tr>\n",
              "      <th>2</th>\n",
              "      <td>14</td>\n",
              "      <td>2018-01-24 14:24:00</td>\n",
              "    </tr>\n",
              "    <tr>\n",
              "      <th>3</th>\n",
              "      <td>5</td>\n",
              "      <td>2018-02-05 09:36:00</td>\n",
              "    </tr>\n",
              "    <tr>\n",
              "      <th>4</th>\n",
              "      <td>7</td>\n",
              "      <td>2018-02-17 04:48:00</td>\n",
              "    </tr>\n",
              "    <tr>\n",
              "      <th>5</th>\n",
              "      <td>8</td>\n",
              "      <td>2018-03-01 00:00:00</td>\n",
              "    </tr>\n",
              "  </tbody>\n",
              "</table>\n",
              "</div>"
            ],
            "text/plain": [
              "   value                date\n",
              "0     10 2018-01-01 00:00:00\n",
              "1     12 2018-01-12 19:12:00\n",
              "2     14 2018-01-24 14:24:00\n",
              "3      5 2018-02-05 09:36:00\n",
              "4      7 2018-02-17 04:48:00\n",
              "5      8 2018-03-01 00:00:00"
            ]
          },
          "metadata": {},
          "execution_count": 30
        },
        {
          "output_type": "stream",
          "name": "stderr",
          "text": [
            "/usr/local/lib/python3.7/dist-packages/ipykernel_launcher.py:4: FutureWarning: The pandas.datetime class is deprecated and will be removed from pandas in a future version. Import from datetime module instead.\n",
            "  after removing the cwd from sys.path.\n"
          ]
        },
        {
          "output_type": "execute_result",
          "data": {
            "text/plain": [
              "12"
            ]
          },
          "metadata": {},
          "execution_count": 30
        }
      ],
      "metadata": {
        "id": "EDpnmVeqXdby",
        "outputId": "fd7ca30a-b81a-407e-8977-949996303050",
        "colab": {
          "base_uri": "https://localhost:8080/",
          "height": 290
        }
      }
    },
    {
      "cell_type": "markdown",
      "source": [
        "### Custom Primitive Implementation\n",
        "\n",
        "Making a custom primitive is simple: first we define a function (`total_previous_month`) and then we `make_agg_primitive` with `input_type[s]`, a `return_type`, and whether or not the primitive requires the `cutoff_time` through `uses_calc_time`. \n",
        "\n",
        "This primitive is an aggregation primitive because it takes in multiple numbers - transactions for the previous month - and returns a single number - the total of the transactions. "
      ],
      "metadata": {
        "id": "ifXf-npeXdby"
      }
    },
    {
      "cell_type": "code",
      "execution_count": 31,
      "source": [
        "# Takes in a number and outputs a number\n",
        "total_previous = make_agg_primitive(total_previous_month, input_types = [ft.variable_types.Numeric,\n",
        "                                                                         ft.variable_types.Datetime],\n",
        "                                    return_type = ft.variable_types.Numeric, \n",
        "                                    uses_calc_time = True)"
      ],
      "outputs": [],
      "metadata": {
        "id": "BAoQ4PzeXdby"
      }
    },
    {
      "cell_type": "markdown",
      "source": [
        "Now just have to pass this in as another aggregation primitive for Featuretools to use it in calculations.\n",
        "\n",
        "\n",
        "The second custom primitive finds the time since a previous true value. This is originally intended for the `is_cancel` variable in the `transactions` dataframe, but it can work for any Boolean variable. It simply finds the time between True examples."
      ],
      "metadata": {
        "id": "rFyqJmtIXdby"
      }
    },
    {
      "cell_type": "code",
      "execution_count": 32,
      "source": [
        "def time_since_true(boolean, datetime):\n",
        "    \"\"\"Calculate time since previous true value\"\"\"\n",
        "    \n",
        "    if np.any(np.array(list(boolean)) == 1):\n",
        "        # Create dataframe sorted from oldest to newest \n",
        "        df = pd.DataFrame({'value': boolean, 'date': datetime}).\\\n",
        "                sort_values('date', ascending = False).reset_index()\n",
        "\n",
        "        older_date = None\n",
        "\n",
        "        # Iterate through each date in reverse order\n",
        "        for date in df.loc[df['value'] == 1, 'date']:\n",
        "\n",
        "            # If there was no older true value\n",
        "            if older_date == None:\n",
        "                # Subset to times on or after true\n",
        "                times_after_idx = df.loc[df['date'] >= date].index\n",
        "\n",
        "            else:\n",
        "                # Subset to times on or after true but before previous true\n",
        "                times_after_idx = df.loc[(df['date'] >= date) & (df['date'] < older_date)].index\n",
        "            older_date = date\n",
        "            # Calculate time since previous true\n",
        "            df.loc[times_after_idx, 'time_since_previous'] = (df.loc[times_after_idx, 'date'] - date).dt.total_seconds()\n",
        "\n",
        "        return list(df['time_since_previous'])[::-1]\n",
        "    \n",
        "    # Handle case with no true values\n",
        "    else:\n",
        "        return [np.nan for _ in range(len(boolean))]"
      ],
      "outputs": [],
      "metadata": {
        "id": "qFGftft-Xdbz"
      }
    },
    {
      "cell_type": "code",
      "execution_count": 33,
      "source": [
        "booleans = []\n",
        "dates = []\n",
        "df = pd.DataFrame({'value': booleans, 'date': dates})\n",
        "time_since_true(df['value'], df['date'])"
      ],
      "outputs": [
        {
          "output_type": "execute_result",
          "data": {
            "text/plain": [
              "[]"
            ]
          },
          "metadata": {},
          "execution_count": 33
        }
      ],
      "metadata": {
        "id": "3h4ODWIMXdbz",
        "outputId": "1e63ea41-72dd-4168-a8a7-b39e544c5750",
        "colab": {
          "base_uri": "https://localhost:8080/"
        }
      }
    },
    {
      "cell_type": "code",
      "execution_count": 34,
      "source": [
        "booleans = [1, 0, 0, 0, 0, 1, 1, 1, 0, 0, 0]\n",
        "dates = pd.date_range('2018-01-01', '2018-03-01', periods = len(booleans))\n",
        "df = pd.DataFrame({'value': booleans, 'date': dates})\n",
        "time_since_true(df['value'], df['date'])"
      ],
      "outputs": [
        {
          "output_type": "execute_result",
          "data": {
            "text/plain": [
              "[0.0,\n",
              " 509760.00000000006,\n",
              " 1019520.0000000001,\n",
              " 1529280.0,\n",
              " 2039040.0000000002,\n",
              " 0.0,\n",
              " 0.0,\n",
              " 0.0,\n",
              " 509760.00000000006,\n",
              " 1019520.0000000001,\n",
              " 1529280.0]"
            ]
          },
          "metadata": {},
          "execution_count": 34
        }
      ],
      "metadata": {
        "id": "r_zJnfqdXdbz",
        "outputId": "43f66be5-b367-4ad4-d12b-2c729277ccd9",
        "colab": {
          "base_uri": "https://localhost:8080/"
        }
      }
    },
    {
      "cell_type": "code",
      "execution_count": 35,
      "source": [
        "booleans = [1, 0, 0]\n",
        "dates = pd.date_range('2018-01-01', '2018-03-01', periods = len(booleans))\n",
        "time_since_true(booleans, dates)"
      ],
      "outputs": [
        {
          "output_type": "execute_result",
          "data": {
            "text/plain": [
              "[0.0, 2548800.0, 5097600.0]"
            ]
          },
          "metadata": {},
          "execution_count": 35
        }
      ],
      "metadata": {
        "id": "r_81cPjhXdbz",
        "outputId": "f2759c4c-50b1-4b09-929c-7b9785ae299c",
        "colab": {
          "base_uri": "https://localhost:8080/"
        }
      }
    },
    {
      "cell_type": "code",
      "execution_count": 36,
      "source": [
        "booleans = [0, 0]\n",
        "dates = pd.date_range('2018-01-01', '2018-03-01', periods = len(booleans))\n",
        "time_since_true(booleans, dates)"
      ],
      "outputs": [
        {
          "output_type": "execute_result",
          "data": {
            "text/plain": [
              "[nan, nan]"
            ]
          },
          "metadata": {},
          "execution_count": 36
        }
      ],
      "metadata": {
        "id": "Li3TJsgUXdbz",
        "outputId": "4d8091f4-d40c-43d0-da28-84891f75b391",
        "colab": {
          "base_uri": "https://localhost:8080/"
        }
      }
    },
    {
      "cell_type": "markdown",
      "source": [
        "This is a transformation primitive since it acts on multiple columns in the same table. The returned list is the same length as the original column."
      ],
      "metadata": {
        "id": "fLyym3sPXdb0"
      }
    },
    {
      "cell_type": "code",
      "execution_count": 37,
      "source": [
        "from featuretools.primitives import make_trans_primitive\n",
        "\n",
        "# Specify the inputs and return\n",
        "time_since = make_trans_primitive(time_since_true, \n",
        "                                  input_types = [vtypes.Boolean, vtypes.Datetime],\n",
        "                                  return_type = vtypes.Numeric)"
      ],
      "outputs": [],
      "metadata": {
        "id": "La8VdXT1Xdb0"
      }
    },
    {
      "cell_type": "markdown",
      "source": [
        "Let's add the two custom primitives to the respective lists. In the final version of feature engineering, I did not use the `time_since` primitive. I ran into problems with the implementation but would encourage anyone to try and fix it or build their own custom primitive[s]."
      ],
      "metadata": {
        "id": "zWTtZTALXdb0"
      }
    },
    {
      "cell_type": "code",
      "execution_count": 38,
      "source": [
        "agg_primitives.append(total_previous)\n",
        "# trans_primitives.append(time_since)"
      ],
      "outputs": [],
      "metadata": {
        "id": "nqsIXgZSXdb0"
      }
    },
    {
      "cell_type": "markdown",
      "source": [
        "## Deep Feature Synthesis with Specified Primitives\n",
        "\n",
        "We'll again run Deep Feature Synthesis to make the feature definitions this time using the selected primitives and the custom primitives. "
      ],
      "metadata": {
        "id": "PotFN0miXdb0"
      }
    },
    {
      "cell_type": "code",
      "execution_count": 39,
      "source": [
        "feature_defs = ft.dfs(entityset=es, target_entity='members', \n",
        "                      cutoff_time = cutoff_times, \n",
        "                      agg_primitives = agg_primitives,\n",
        "                      trans_primitives = trans_primitives,\n",
        "                      where_primitives = where_primitives,\n",
        "                      chunk_size = len(cutoff_times), \n",
        "                      cutoff_time_in_index = True,\n",
        "                      max_depth = 2, features_only = True)"
      ],
      "outputs": [],
      "metadata": {
        "id": "0J4cQWmrXdb0"
      }
    },
    {
      "cell_type": "code",
      "execution_count": 40,
      "source": [
        "print(f'This will generate {len(feature_defs)} features.')"
      ],
      "outputs": [
        {
          "output_type": "stream",
          "name": "stdout",
          "text": [
            "This will generate 255 features.\n"
          ]
        }
      ],
      "metadata": {
        "id": "pJa6ND0xXdb0",
        "outputId": "3fac0cb0-4dd7-4063-964a-99690dd82d7d",
        "colab": {
          "base_uri": "https://localhost:8080/"
        }
      }
    },
    {
      "cell_type": "code",
      "execution_count": 41,
      "source": [
        "random.sample(feature_defs, 15)"
      ],
      "outputs": [
        {
          "output_type": "execute_result",
          "data": {
            "text/plain": [
              "[<Feature: MIN(logs.num_unq)>,\n",
              " <Feature: NUM_UNIQUE(logs.MONTH(date))>,\n",
              " <Feature: LAST(transactions.payment_method_id)>,\n",
              " <Feature: SUM(logs.num_100)>,\n",
              " <Feature: SUM(logs.num_985)>,\n",
              " <Feature: MIN(logs.total_secs)>,\n",
              " <Feature: MAX(logs.num_unq)>,\n",
              " <Feature: MAX(logs.percent_unique)>,\n",
              " <Feature: STD(transactions.planned_daily_price)>,\n",
              " <Feature: LAST(logs.MONTH(date))>,\n",
              " <Feature: SUM(logs.num_75)>,\n",
              " <Feature: TOTAL_PREVIOUS_MONTH(transactions.planned_daily_price, transaction_date)>,\n",
              " <Feature: MAX(logs.num_25)>,\n",
              " <Feature: ALL(transactions.is_cancel WHERE is_auto_renew = 0)>,\n",
              " <Feature: SUM(transactions.actual_amount_paid WHERE is_auto_renew = 1)>]"
            ]
          },
          "metadata": {},
          "execution_count": 41
        }
      ],
      "metadata": {
        "id": "R4zwQVNxXdb0",
        "outputId": "04faecee-887d-40e5-e603-91ad18e53d07",
        "colab": {
          "base_uri": "https://localhost:8080/"
        }
      }
    },
    {
      "cell_type": "markdown",
      "source": [
        "We can see that our custom primitive `TOTAL_PREVIOUS_MONTH` has been applied to create more features. The benefit of custom primitives are that they can be used to encode specific domain knowledge into the feature engineering process. Moreover, we don't get just the custom primitive itself, we also get features that are stacked on top of the primitive."
      ],
      "metadata": {
        "id": "-fVIXOxVXdb1"
      }
    },
    {
      "cell_type": "markdown",
      "source": [
        "# Run Deep Feature Synthesis\n",
        "\n",
        "Once we're happy with the features that will be generated, we can run deep feature synthesis to make the actual features. We need to change `feature_only` to `False` and then we're good to go."
      ],
      "metadata": {
        "id": "y_nW0VW5Xdb1"
      }
    },
    {
      "cell_type": "code",
      "execution_count": 42,
      "source": [
        "from timeit import default_timer as timer\n",
        "\n",
        "start = timer()\n",
        "feature_matrix, feature_defs = ft.dfs(entityset=es, target_entity='members', \n",
        "                                      cutoff_time = cutoff_times, \n",
        "                                      agg_primitives = agg_primitives,\n",
        "                                      trans_primitives = trans_primitives,\n",
        "                                      where_primitives = where_primitives,\n",
        "                                      max_depth = 2, features_only = False,\n",
        "                                      verbose = 1, chunk_size = 1000,  \n",
        "                                      n_jobs = -1,\n",
        "                                      cutoff_time_in_index = True)\n",
        "end = timer()\n",
        "print(f'{round(end - start)} seconds elapsed.')"
      ],
      "outputs": [
        {
          "output_type": "stream",
          "name": "stdout",
          "text": [
            "Built 255 features\n"
          ]
        },
        {
          "output_type": "stream",
          "name": "stderr",
          "text": [
            "/usr/local/lib/python3.7/dist-packages/distributed/deploy/spec.py:284: UserWarning: \n",
            "Could not launch service 'dashboard' on port 8787. Got the following message:\n",
            "\n",
            "failed to validate _ServerOpts(...).prefix: expected a value of type str, got None of type NoneType\n",
            "  self.scheduler = await self.scheduler\n"
          ]
        },
        {
          "output_type": "stream",
          "name": "stdout",
          "text": [
            "EntitySet scattered to workers in 1.731 seconds\n",
            "Elapsed: 16:43 | Remaining: 00:00 | Progress: 100%|██████████| Calculated: 30/30 chunks\n",
            "1010 seconds elapsed.\n"
          ]
        }
      ],
      "metadata": {
        "id": "4XNJO-1FXdb1",
        "outputId": "76cf782f-ae2e-417c-dc73-fc75bc060db8",
        "colab": {
          "base_uri": "https://localhost:8080/"
        }
      }
    },
    {
      "cell_type": "markdown",
      "source": [
        "The `chunk_size` is a parameter that may need to be adjusted to optimize the calculation. I suggest playing around with this parameter to find the optimal value. Generally I've found that a large value makes the calculation proceed quicker although it depends on the machine in use and the number of unique cutoff times. "
      ],
      "metadata": {
        "id": "v8_OJ7W9Xdb1"
      }
    },
    {
      "cell_type": "code",
      "execution_count": 43,
      "source": [
        "feature_matrix.head()"
      ],
      "outputs": [
        {
          "output_type": "execute_result",
          "data": {
            "text/html": [
              "<div>\n",
              "<style scoped>\n",
              "    .dataframe tbody tr th:only-of-type {\n",
              "        vertical-align: middle;\n",
              "    }\n",
              "\n",
              "    .dataframe tbody tr th {\n",
              "        vertical-align: top;\n",
              "    }\n",
              "\n",
              "    .dataframe thead th {\n",
              "        text-align: right;\n",
              "    }\n",
              "</style>\n",
              "<table border=\"1\" class=\"dataframe\">\n",
              "  <thead>\n",
              "    <tr style=\"text-align: right;\">\n",
              "      <th></th>\n",
              "      <th></th>\n",
              "      <th>bd</th>\n",
              "      <th>city</th>\n",
              "      <th>registered_via</th>\n",
              "      <th>gender</th>\n",
              "      <th>SUM(logs.num_25)</th>\n",
              "      <th>SUM(logs.num_50)</th>\n",
              "      <th>SUM(logs.num_75)</th>\n",
              "      <th>SUM(logs.num_985)</th>\n",
              "      <th>SUM(logs.num_100)</th>\n",
              "      <th>SUM(logs.num_unq)</th>\n",
              "      <th>SUM(logs.total_secs)</th>\n",
              "      <th>SUM(logs.total)</th>\n",
              "      <th>SUM(logs.percent_100)</th>\n",
              "      <th>SUM(logs.percent_unique)</th>\n",
              "      <th>SUM(logs.seconds_per_song)</th>\n",
              "      <th>TIME_SINCE_LAST(logs.date)</th>\n",
              "      <th>AVG_TIME_BETWEEN(logs.date)</th>\n",
              "      <th>MIN(logs.num_25)</th>\n",
              "      <th>MIN(logs.num_50)</th>\n",
              "      <th>MIN(logs.num_75)</th>\n",
              "      <th>MIN(logs.num_985)</th>\n",
              "      <th>MIN(logs.num_100)</th>\n",
              "      <th>MIN(logs.num_unq)</th>\n",
              "      <th>MIN(logs.total_secs)</th>\n",
              "      <th>MIN(logs.total)</th>\n",
              "      <th>MIN(logs.percent_100)</th>\n",
              "      <th>MIN(logs.percent_unique)</th>\n",
              "      <th>MIN(logs.seconds_per_song)</th>\n",
              "      <th>LAST(logs.num_25)</th>\n",
              "      <th>LAST(logs.num_50)</th>\n",
              "      <th>LAST(logs.num_75)</th>\n",
              "      <th>LAST(logs.num_985)</th>\n",
              "      <th>LAST(logs.num_100)</th>\n",
              "      <th>LAST(logs.num_unq)</th>\n",
              "      <th>LAST(logs.total_secs)</th>\n",
              "      <th>LAST(logs.total)</th>\n",
              "      <th>LAST(logs.percent_100)</th>\n",
              "      <th>LAST(logs.percent_unique)</th>\n",
              "      <th>LAST(logs.seconds_per_song)</th>\n",
              "      <th>MEAN(logs.num_25)</th>\n",
              "      <th>...</th>\n",
              "      <th>MEAN(transactions.actual_amount_paid WHERE is_auto_renew = 1)</th>\n",
              "      <th>MEAN(transactions.actual_amount_paid WHERE is_auto_renew = 0)</th>\n",
              "      <th>MEAN(transactions.price_difference WHERE is_cancel = 1)</th>\n",
              "      <th>MEAN(transactions.price_difference WHERE is_cancel = 0)</th>\n",
              "      <th>MEAN(transactions.price_difference WHERE is_auto_renew = 1)</th>\n",
              "      <th>MEAN(transactions.price_difference WHERE is_auto_renew = 0)</th>\n",
              "      <th>MEAN(transactions.planned_daily_price WHERE is_cancel = 1)</th>\n",
              "      <th>MEAN(transactions.planned_daily_price WHERE is_cancel = 0)</th>\n",
              "      <th>MEAN(transactions.planned_daily_price WHERE is_auto_renew = 1)</th>\n",
              "      <th>MEAN(transactions.planned_daily_price WHERE is_auto_renew = 0)</th>\n",
              "      <th>MEAN(transactions.daily_price WHERE is_cancel = 1)</th>\n",
              "      <th>MEAN(transactions.daily_price WHERE is_cancel = 0)</th>\n",
              "      <th>MEAN(transactions.daily_price WHERE is_auto_renew = 1)</th>\n",
              "      <th>MEAN(transactions.daily_price WHERE is_auto_renew = 0)</th>\n",
              "      <th>PERCENT_TRUE(transactions.is_auto_renew WHERE is_cancel = 1)</th>\n",
              "      <th>PERCENT_TRUE(transactions.is_auto_renew WHERE is_cancel = 0)</th>\n",
              "      <th>PERCENT_TRUE(transactions.is_cancel WHERE is_auto_renew = 1)</th>\n",
              "      <th>PERCENT_TRUE(transactions.is_cancel WHERE is_auto_renew = 0)</th>\n",
              "      <th>PERCENT_TRUE(transactions.WEEKEND(transaction_date))</th>\n",
              "      <th>PERCENT_TRUE(transactions.WEEKEND(transaction_date) WHERE is_cancel = 1)</th>\n",
              "      <th>PERCENT_TRUE(transactions.WEEKEND(transaction_date) WHERE is_cancel = 0)</th>\n",
              "      <th>PERCENT_TRUE(transactions.WEEKEND(transaction_date) WHERE is_auto_renew = 1)</th>\n",
              "      <th>PERCENT_TRUE(transactions.WEEKEND(transaction_date) WHERE is_auto_renew = 0)</th>\n",
              "      <th>PERCENT_TRUE(transactions.WEEKEND(membership_expire_date))</th>\n",
              "      <th>PERCENT_TRUE(transactions.WEEKEND(membership_expire_date) WHERE is_cancel = 1)</th>\n",
              "      <th>PERCENT_TRUE(transactions.WEEKEND(membership_expire_date) WHERE is_cancel = 0)</th>\n",
              "      <th>PERCENT_TRUE(transactions.WEEKEND(membership_expire_date) WHERE is_auto_renew = 1)</th>\n",
              "      <th>PERCENT_TRUE(transactions.WEEKEND(membership_expire_date) WHERE is_auto_renew = 0)</th>\n",
              "      <th>WEEKEND(LAST(logs.date))</th>\n",
              "      <th>WEEKEND(LAST(transactions.transaction_date))</th>\n",
              "      <th>WEEKEND(LAST(transactions.membership_expire_date))</th>\n",
              "      <th>DAY(LAST(logs.date))</th>\n",
              "      <th>DAY(LAST(transactions.transaction_date))</th>\n",
              "      <th>DAY(LAST(transactions.membership_expire_date))</th>\n",
              "      <th>MONTH(LAST(logs.date))</th>\n",
              "      <th>MONTH(LAST(transactions.transaction_date))</th>\n",
              "      <th>MONTH(LAST(transactions.membership_expire_date))</th>\n",
              "      <th>label</th>\n",
              "      <th>days_to_churn</th>\n",
              "      <th>churn_date</th>\n",
              "    </tr>\n",
              "    <tr>\n",
              "      <th>msno</th>\n",
              "      <th>time</th>\n",
              "      <th></th>\n",
              "      <th></th>\n",
              "      <th></th>\n",
              "      <th></th>\n",
              "      <th></th>\n",
              "      <th></th>\n",
              "      <th></th>\n",
              "      <th></th>\n",
              "      <th></th>\n",
              "      <th></th>\n",
              "      <th></th>\n",
              "      <th></th>\n",
              "      <th></th>\n",
              "      <th></th>\n",
              "      <th></th>\n",
              "      <th></th>\n",
              "      <th></th>\n",
              "      <th></th>\n",
              "      <th></th>\n",
              "      <th></th>\n",
              "      <th></th>\n",
              "      <th></th>\n",
              "      <th></th>\n",
              "      <th></th>\n",
              "      <th></th>\n",
              "      <th></th>\n",
              "      <th></th>\n",
              "      <th></th>\n",
              "      <th></th>\n",
              "      <th></th>\n",
              "      <th></th>\n",
              "      <th></th>\n",
              "      <th></th>\n",
              "      <th></th>\n",
              "      <th></th>\n",
              "      <th></th>\n",
              "      <th></th>\n",
              "      <th></th>\n",
              "      <th></th>\n",
              "      <th></th>\n",
              "      <th></th>\n",
              "      <th></th>\n",
              "      <th></th>\n",
              "      <th></th>\n",
              "      <th></th>\n",
              "      <th></th>\n",
              "      <th></th>\n",
              "      <th></th>\n",
              "      <th></th>\n",
              "      <th></th>\n",
              "      <th></th>\n",
              "      <th></th>\n",
              "      <th></th>\n",
              "      <th></th>\n",
              "      <th></th>\n",
              "      <th></th>\n",
              "      <th></th>\n",
              "      <th></th>\n",
              "      <th></th>\n",
              "      <th></th>\n",
              "      <th></th>\n",
              "      <th></th>\n",
              "      <th></th>\n",
              "      <th></th>\n",
              "      <th></th>\n",
              "      <th></th>\n",
              "      <th></th>\n",
              "      <th></th>\n",
              "      <th></th>\n",
              "      <th></th>\n",
              "      <th></th>\n",
              "      <th></th>\n",
              "      <th></th>\n",
              "      <th></th>\n",
              "      <th></th>\n",
              "      <th></th>\n",
              "      <th></th>\n",
              "      <th></th>\n",
              "      <th></th>\n",
              "      <th></th>\n",
              "      <th></th>\n",
              "    </tr>\n",
              "  </thead>\n",
              "  <tbody>\n",
              "    <tr>\n",
              "      <th>+9v4Rbyc+58MyKbt1wrCskWClJadOJh7CapZa9CYXUM=</th>\n",
              "      <th>2015-01-01</th>\n",
              "      <td>24.0</td>\n",
              "      <td>5.0</td>\n",
              "      <td>7.0</td>\n",
              "      <td>female</td>\n",
              "      <td>0.0</td>\n",
              "      <td>0.0</td>\n",
              "      <td>0.0</td>\n",
              "      <td>0.0</td>\n",
              "      <td>0.0</td>\n",
              "      <td>0.0</td>\n",
              "      <td>0.000</td>\n",
              "      <td>0.0</td>\n",
              "      <td>0.000000</td>\n",
              "      <td>0.000000</td>\n",
              "      <td>0.000000</td>\n",
              "      <td>NaN</td>\n",
              "      <td>NaN</td>\n",
              "      <td>NaN</td>\n",
              "      <td>NaN</td>\n",
              "      <td>NaN</td>\n",
              "      <td>NaN</td>\n",
              "      <td>NaN</td>\n",
              "      <td>NaN</td>\n",
              "      <td>NaN</td>\n",
              "      <td>NaN</td>\n",
              "      <td>NaN</td>\n",
              "      <td>NaN</td>\n",
              "      <td>NaN</td>\n",
              "      <td>NaN</td>\n",
              "      <td>NaN</td>\n",
              "      <td>NaN</td>\n",
              "      <td>NaN</td>\n",
              "      <td>NaN</td>\n",
              "      <td>NaN</td>\n",
              "      <td>NaN</td>\n",
              "      <td>NaN</td>\n",
              "      <td>NaN</td>\n",
              "      <td>NaN</td>\n",
              "      <td>NaN</td>\n",
              "      <td>NaN</td>\n",
              "      <td>...</td>\n",
              "      <td>NaN</td>\n",
              "      <td>NaN</td>\n",
              "      <td>NaN</td>\n",
              "      <td>NaN</td>\n",
              "      <td>NaN</td>\n",
              "      <td>NaN</td>\n",
              "      <td>NaN</td>\n",
              "      <td>NaN</td>\n",
              "      <td>NaN</td>\n",
              "      <td>NaN</td>\n",
              "      <td>NaN</td>\n",
              "      <td>NaN</td>\n",
              "      <td>NaN</td>\n",
              "      <td>NaN</td>\n",
              "      <td>0.0</td>\n",
              "      <td>0.0</td>\n",
              "      <td>0.0</td>\n",
              "      <td>0.0</td>\n",
              "      <td>0.0</td>\n",
              "      <td>0.0</td>\n",
              "      <td>0.0</td>\n",
              "      <td>0.0</td>\n",
              "      <td>0.0</td>\n",
              "      <td>0.0</td>\n",
              "      <td>0.0</td>\n",
              "      <td>0.0</td>\n",
              "      <td>0.0</td>\n",
              "      <td>0.0</td>\n",
              "      <td>0.0</td>\n",
              "      <td>0.0</td>\n",
              "      <td>0.0</td>\n",
              "      <td>NaN</td>\n",
              "      <td>NaN</td>\n",
              "      <td>NaN</td>\n",
              "      <td>NaN</td>\n",
              "      <td>NaN</td>\n",
              "      <td>NaN</td>\n",
              "      <td>0.0</td>\n",
              "      <td>NaN</td>\n",
              "      <td>NaN</td>\n",
              "    </tr>\n",
              "    <tr>\n",
              "      <th>+FMjiiorqZQ3ZzNNmgO0vZM2yh8IHPvWSvwy2fSBMLU=</th>\n",
              "      <th>2015-01-01</th>\n",
              "      <td>27.0</td>\n",
              "      <td>6.0</td>\n",
              "      <td>7.0</td>\n",
              "      <td>male</td>\n",
              "      <td>0.0</td>\n",
              "      <td>0.0</td>\n",
              "      <td>0.0</td>\n",
              "      <td>0.0</td>\n",
              "      <td>111.0</td>\n",
              "      <td>106.0</td>\n",
              "      <td>28890.118</td>\n",
              "      <td>111.0</td>\n",
              "      <td>1.000000</td>\n",
              "      <td>0.954955</td>\n",
              "      <td>260.271333</td>\n",
              "      <td>0.0</td>\n",
              "      <td>NaN</td>\n",
              "      <td>0.0</td>\n",
              "      <td>0.0</td>\n",
              "      <td>0.0</td>\n",
              "      <td>0.0</td>\n",
              "      <td>111.0</td>\n",
              "      <td>106.0</td>\n",
              "      <td>28890.118</td>\n",
              "      <td>111.0</td>\n",
              "      <td>1.000000</td>\n",
              "      <td>0.954955</td>\n",
              "      <td>260.271333</td>\n",
              "      <td>0.0</td>\n",
              "      <td>0.0</td>\n",
              "      <td>0.0</td>\n",
              "      <td>0.0</td>\n",
              "      <td>111.0</td>\n",
              "      <td>106.0</td>\n",
              "      <td>28890.118</td>\n",
              "      <td>111.0</td>\n",
              "      <td>1.000000</td>\n",
              "      <td>0.954955</td>\n",
              "      <td>260.271333</td>\n",
              "      <td>0.0</td>\n",
              "      <td>...</td>\n",
              "      <td>NaN</td>\n",
              "      <td>NaN</td>\n",
              "      <td>NaN</td>\n",
              "      <td>NaN</td>\n",
              "      <td>NaN</td>\n",
              "      <td>NaN</td>\n",
              "      <td>NaN</td>\n",
              "      <td>NaN</td>\n",
              "      <td>NaN</td>\n",
              "      <td>NaN</td>\n",
              "      <td>NaN</td>\n",
              "      <td>NaN</td>\n",
              "      <td>NaN</td>\n",
              "      <td>NaN</td>\n",
              "      <td>0.0</td>\n",
              "      <td>0.0</td>\n",
              "      <td>0.0</td>\n",
              "      <td>0.0</td>\n",
              "      <td>0.0</td>\n",
              "      <td>0.0</td>\n",
              "      <td>0.0</td>\n",
              "      <td>0.0</td>\n",
              "      <td>0.0</td>\n",
              "      <td>0.0</td>\n",
              "      <td>0.0</td>\n",
              "      <td>0.0</td>\n",
              "      <td>0.0</td>\n",
              "      <td>0.0</td>\n",
              "      <td>0.0</td>\n",
              "      <td>0.0</td>\n",
              "      <td>0.0</td>\n",
              "      <td>1.0</td>\n",
              "      <td>NaN</td>\n",
              "      <td>NaN</td>\n",
              "      <td>1.0</td>\n",
              "      <td>NaN</td>\n",
              "      <td>NaN</td>\n",
              "      <td>0.0</td>\n",
              "      <td>NaN</td>\n",
              "      <td>NaN</td>\n",
              "    </tr>\n",
              "    <tr>\n",
              "      <th>+V3HOZsK34UPrNOYg6IhG8sP1dY6w5LG8J98eodnBBk=</th>\n",
              "      <th>2015-01-01</th>\n",
              "      <td>NaN</td>\n",
              "      <td>NaN</td>\n",
              "      <td>NaN</td>\n",
              "      <td>NaN</td>\n",
              "      <td>0.0</td>\n",
              "      <td>0.0</td>\n",
              "      <td>0.0</td>\n",
              "      <td>0.0</td>\n",
              "      <td>0.0</td>\n",
              "      <td>0.0</td>\n",
              "      <td>0.000</td>\n",
              "      <td>0.0</td>\n",
              "      <td>0.000000</td>\n",
              "      <td>0.000000</td>\n",
              "      <td>0.000000</td>\n",
              "      <td>NaN</td>\n",
              "      <td>NaN</td>\n",
              "      <td>NaN</td>\n",
              "      <td>NaN</td>\n",
              "      <td>NaN</td>\n",
              "      <td>NaN</td>\n",
              "      <td>NaN</td>\n",
              "      <td>NaN</td>\n",
              "      <td>NaN</td>\n",
              "      <td>NaN</td>\n",
              "      <td>NaN</td>\n",
              "      <td>NaN</td>\n",
              "      <td>NaN</td>\n",
              "      <td>NaN</td>\n",
              "      <td>NaN</td>\n",
              "      <td>NaN</td>\n",
              "      <td>NaN</td>\n",
              "      <td>NaN</td>\n",
              "      <td>NaN</td>\n",
              "      <td>NaN</td>\n",
              "      <td>NaN</td>\n",
              "      <td>NaN</td>\n",
              "      <td>NaN</td>\n",
              "      <td>NaN</td>\n",
              "      <td>NaN</td>\n",
              "      <td>...</td>\n",
              "      <td>NaN</td>\n",
              "      <td>NaN</td>\n",
              "      <td>NaN</td>\n",
              "      <td>NaN</td>\n",
              "      <td>NaN</td>\n",
              "      <td>NaN</td>\n",
              "      <td>NaN</td>\n",
              "      <td>NaN</td>\n",
              "      <td>NaN</td>\n",
              "      <td>NaN</td>\n",
              "      <td>NaN</td>\n",
              "      <td>NaN</td>\n",
              "      <td>NaN</td>\n",
              "      <td>NaN</td>\n",
              "      <td>0.0</td>\n",
              "      <td>0.0</td>\n",
              "      <td>0.0</td>\n",
              "      <td>0.0</td>\n",
              "      <td>0.0</td>\n",
              "      <td>0.0</td>\n",
              "      <td>0.0</td>\n",
              "      <td>0.0</td>\n",
              "      <td>0.0</td>\n",
              "      <td>0.0</td>\n",
              "      <td>0.0</td>\n",
              "      <td>0.0</td>\n",
              "      <td>0.0</td>\n",
              "      <td>0.0</td>\n",
              "      <td>NaN</td>\n",
              "      <td>NaN</td>\n",
              "      <td>NaN</td>\n",
              "      <td>NaN</td>\n",
              "      <td>NaN</td>\n",
              "      <td>NaN</td>\n",
              "      <td>NaN</td>\n",
              "      <td>NaN</td>\n",
              "      <td>NaN</td>\n",
              "      <td>0.0</td>\n",
              "      <td>NaN</td>\n",
              "      <td>NaN</td>\n",
              "    </tr>\n",
              "    <tr>\n",
              "      <th>+ikgRAmrCW349x39kQ0nOqh9jvajPXJFZkI9Q6omEMs=</th>\n",
              "      <th>2015-01-01</th>\n",
              "      <td>0.0</td>\n",
              "      <td>14.0</td>\n",
              "      <td>9.0</td>\n",
              "      <td>NaN</td>\n",
              "      <td>0.0</td>\n",
              "      <td>0.0</td>\n",
              "      <td>0.0</td>\n",
              "      <td>0.0</td>\n",
              "      <td>0.0</td>\n",
              "      <td>0.0</td>\n",
              "      <td>0.000</td>\n",
              "      <td>0.0</td>\n",
              "      <td>0.000000</td>\n",
              "      <td>0.000000</td>\n",
              "      <td>0.000000</td>\n",
              "      <td>NaN</td>\n",
              "      <td>NaN</td>\n",
              "      <td>NaN</td>\n",
              "      <td>NaN</td>\n",
              "      <td>NaN</td>\n",
              "      <td>NaN</td>\n",
              "      <td>NaN</td>\n",
              "      <td>NaN</td>\n",
              "      <td>NaN</td>\n",
              "      <td>NaN</td>\n",
              "      <td>NaN</td>\n",
              "      <td>NaN</td>\n",
              "      <td>NaN</td>\n",
              "      <td>NaN</td>\n",
              "      <td>NaN</td>\n",
              "      <td>NaN</td>\n",
              "      <td>NaN</td>\n",
              "      <td>NaN</td>\n",
              "      <td>NaN</td>\n",
              "      <td>NaN</td>\n",
              "      <td>NaN</td>\n",
              "      <td>NaN</td>\n",
              "      <td>NaN</td>\n",
              "      <td>NaN</td>\n",
              "      <td>NaN</td>\n",
              "      <td>...</td>\n",
              "      <td>NaN</td>\n",
              "      <td>NaN</td>\n",
              "      <td>NaN</td>\n",
              "      <td>NaN</td>\n",
              "      <td>NaN</td>\n",
              "      <td>NaN</td>\n",
              "      <td>NaN</td>\n",
              "      <td>NaN</td>\n",
              "      <td>NaN</td>\n",
              "      <td>NaN</td>\n",
              "      <td>NaN</td>\n",
              "      <td>NaN</td>\n",
              "      <td>NaN</td>\n",
              "      <td>NaN</td>\n",
              "      <td>0.0</td>\n",
              "      <td>0.0</td>\n",
              "      <td>0.0</td>\n",
              "      <td>0.0</td>\n",
              "      <td>0.0</td>\n",
              "      <td>0.0</td>\n",
              "      <td>0.0</td>\n",
              "      <td>0.0</td>\n",
              "      <td>0.0</td>\n",
              "      <td>0.0</td>\n",
              "      <td>0.0</td>\n",
              "      <td>0.0</td>\n",
              "      <td>0.0</td>\n",
              "      <td>0.0</td>\n",
              "      <td>0.0</td>\n",
              "      <td>0.0</td>\n",
              "      <td>0.0</td>\n",
              "      <td>NaN</td>\n",
              "      <td>NaN</td>\n",
              "      <td>NaN</td>\n",
              "      <td>NaN</td>\n",
              "      <td>NaN</td>\n",
              "      <td>NaN</td>\n",
              "      <td>0.0</td>\n",
              "      <td>464.0</td>\n",
              "      <td>NaN</td>\n",
              "    </tr>\n",
              "    <tr>\n",
              "      <th>+kbXNszLheADYStfNoRwa9q9sZykS5Tfk044GMwOw1o=</th>\n",
              "      <th>2015-01-01</th>\n",
              "      <td>29.0</td>\n",
              "      <td>15.0</td>\n",
              "      <td>9.0</td>\n",
              "      <td>male</td>\n",
              "      <td>22.0</td>\n",
              "      <td>4.0</td>\n",
              "      <td>5.0</td>\n",
              "      <td>3.0</td>\n",
              "      <td>54.0</td>\n",
              "      <td>55.0</td>\n",
              "      <td>13770.077</td>\n",
              "      <td>88.0</td>\n",
              "      <td>0.613636</td>\n",
              "      <td>0.625000</td>\n",
              "      <td>156.478148</td>\n",
              "      <td>0.0</td>\n",
              "      <td>NaN</td>\n",
              "      <td>22.0</td>\n",
              "      <td>4.0</td>\n",
              "      <td>5.0</td>\n",
              "      <td>3.0</td>\n",
              "      <td>54.0</td>\n",
              "      <td>55.0</td>\n",
              "      <td>13770.077</td>\n",
              "      <td>88.0</td>\n",
              "      <td>0.613636</td>\n",
              "      <td>0.625000</td>\n",
              "      <td>156.478148</td>\n",
              "      <td>22.0</td>\n",
              "      <td>4.0</td>\n",
              "      <td>5.0</td>\n",
              "      <td>3.0</td>\n",
              "      <td>54.0</td>\n",
              "      <td>55.0</td>\n",
              "      <td>13770.077</td>\n",
              "      <td>88.0</td>\n",
              "      <td>0.613636</td>\n",
              "      <td>0.625000</td>\n",
              "      <td>156.478148</td>\n",
              "      <td>22.0</td>\n",
              "      <td>...</td>\n",
              "      <td>NaN</td>\n",
              "      <td>NaN</td>\n",
              "      <td>NaN</td>\n",
              "      <td>NaN</td>\n",
              "      <td>NaN</td>\n",
              "      <td>NaN</td>\n",
              "      <td>NaN</td>\n",
              "      <td>NaN</td>\n",
              "      <td>NaN</td>\n",
              "      <td>NaN</td>\n",
              "      <td>NaN</td>\n",
              "      <td>NaN</td>\n",
              "      <td>NaN</td>\n",
              "      <td>NaN</td>\n",
              "      <td>0.0</td>\n",
              "      <td>0.0</td>\n",
              "      <td>0.0</td>\n",
              "      <td>0.0</td>\n",
              "      <td>0.0</td>\n",
              "      <td>0.0</td>\n",
              "      <td>0.0</td>\n",
              "      <td>0.0</td>\n",
              "      <td>0.0</td>\n",
              "      <td>0.0</td>\n",
              "      <td>0.0</td>\n",
              "      <td>0.0</td>\n",
              "      <td>0.0</td>\n",
              "      <td>0.0</td>\n",
              "      <td>0.0</td>\n",
              "      <td>0.0</td>\n",
              "      <td>0.0</td>\n",
              "      <td>1.0</td>\n",
              "      <td>NaN</td>\n",
              "      <td>NaN</td>\n",
              "      <td>1.0</td>\n",
              "      <td>NaN</td>\n",
              "      <td>NaN</td>\n",
              "      <td>0.0</td>\n",
              "      <td>NaN</td>\n",
              "      <td>NaN</td>\n",
              "    </tr>\n",
              "  </tbody>\n",
              "</table>\n",
              "<p>5 rows × 258 columns</p>\n",
              "</div>"
            ],
            "text/plain": [
              "                                                           bd  ...  churn_date\n",
              "msno                                         time              ...            \n",
              "+9v4Rbyc+58MyKbt1wrCskWClJadOJh7CapZa9CYXUM= 2015-01-01  24.0  ...         NaN\n",
              "+FMjiiorqZQ3ZzNNmgO0vZM2yh8IHPvWSvwy2fSBMLU= 2015-01-01  27.0  ...         NaN\n",
              "+V3HOZsK34UPrNOYg6IhG8sP1dY6w5LG8J98eodnBBk= 2015-01-01   NaN  ...         NaN\n",
              "+ikgRAmrCW349x39kQ0nOqh9jvajPXJFZkI9Q6omEMs= 2015-01-01   0.0  ...         NaN\n",
              "+kbXNszLheADYStfNoRwa9q9sZykS5Tfk044GMwOw1o= 2015-01-01  29.0  ...         NaN\n",
              "\n",
              "[5 rows x 258 columns]"
            ]
          },
          "metadata": {},
          "execution_count": 43
        }
      ],
      "metadata": {
        "id": "AZbK38TQXdb1",
        "outputId": "b3d953f4-e7f3-4442-9d51-b2533fe5106a",
        "colab": {
          "base_uri": "https://localhost:8080/",
          "height": 391
        }
      }
    },
    {
      "cell_type": "markdown",
      "source": [
        "We can save these feature definitions as a binary file which will allow us to make the same exact features for another entityset of the same format. This is useful when we have multiple partitions and we want to make the same features for each. Instead of remaking the feature definitions, we pass in the same feature definitions to a call to `calculate_feature_matrix`."
      ],
      "metadata": {
        "id": "j82T5bDJXdb1"
      }
    },
    {
      "cell_type": "code",
      "execution_count": 44,
      "source": [
        "ft.save_features(feature_defs, './data/churn/features.txt')"
      ],
      "outputs": [],
      "metadata": {
        "id": "xR6y28f_Xdb1"
      }
    },
    {
      "cell_type": "code",
      "execution_count": 45,
      "source": [
        "feature_matrix.loc[feature_matrix['SUM(logs.num_100)'] < 10000, 'SUM(logs.num_100)'].plot.hist();\n",
        "plt.title('Sum of Number of Songs Listened to 100 %');"
      ],
      "outputs": [
        {
          "output_type": "display_data",
          "data": {
            "image/png": "[encoded data removed]",
            "text/plain": [
              "<Figure size 720x432 with 1 Axes>"
            ]
          },
          "metadata": {}
        }
      ],
      "metadata": {
        "id": "D5uHZe3mXdb2",
        "outputId": "f2393de1-ef3d-45d0-8de9-49f3e1fa2acb",
        "colab": {
          "base_uri": "https://localhost:8080/",
          "height": 419
        }
      }
    },
    {
      "cell_type": "code",
      "execution_count": 46,
      "source": [
        "feature_matrix['TOTAL_PREVIOUS_MONTH(logs.num_unq, date)'].plot.hist()\n",
        "plt.title('Number of Unique Songs Listened to in Past Month');"
      ],
      "outputs": [
        {
          "output_type": "display_data",
          "data": {
            "image/png": "[encoded data removed]",
            "text/plain": [
              "<Figure size 720x432 with 1 Axes>"
            ]
          },
          "metadata": {}
        }
      ],
      "metadata": {
        "id": "kQkDo5_eXdb2",
        "outputId": "152d0392-f67d-400c-a3da-ecc2864f085c",
        "colab": {
          "base_uri": "https://localhost:8080/",
          "height": 419
        }
      }
    },
    {
      "cell_type": "code",
      "execution_count": 47,
      "source": [
        "feature_matrix['TOTAL_PREVIOUS_MONTH(logs.num_unq, date)'].describe()"
      ],
      "outputs": [
        {
          "output_type": "execute_result",
          "data": {
            "text/plain": [
              "count    21944.000000\n",
              "mean       452.605359\n",
              "std        561.207982\n",
              "min          0.000000\n",
              "25%         61.000000\n",
              "50%        276.000000\n",
              "75%        626.000000\n",
              "max       5697.000000\n",
              "Name: TOTAL_PREVIOUS_MONTH(logs.num_unq, date), dtype: float64"
            ]
          },
          "metadata": {},
          "execution_count": 47
        }
      ],
      "metadata": {
        "id": "_4MWw9n9Xdb2",
        "outputId": "0fd7b848-defa-4506-fb42-89f5c3a2c5cb",
        "colab": {
          "base_uri": "https://localhost:8080/"
        }
      }
    },
    {
      "cell_type": "code",
      "execution_count": 48,
      "source": [
        "plt.figure(figsize = (6, 8))\n",
        "sns.boxplot(y = feature_matrix['TOTAL_PREVIOUS_MONTH(logs.num_unq, date)']);"
      ],
      "outputs": [
        {
          "output_type": "display_data",
          "data": {
            "image/png": "[encoded data removed]",
            "text/plain": [
              "<Figure size 432x576 with 1 Axes>"
            ]
          },
          "metadata": {}
        }
      ],
      "metadata": {
        "id": "Acf72I5jXdb2",
        "outputId": "a5e43a45-c2c9-4d23-eeb6-d278c657b23b",
        "colab": {
          "base_uri": "https://localhost:8080/",
          "height": 497
        }
      }
    },
    {
      "cell_type": "code",
      "execution_count": 49,
      "source": [
        "feature_defs = ft.load_features('./data/churn/features.txt')\n",
        "print(f'There are {len(feature_defs)} features.')"
      ],
      "outputs": [
        {
          "output_type": "stream",
          "name": "stdout",
          "text": [
            "There are 255 features.\n"
          ]
        }
      ],
      "metadata": {
        "id": "FdOUfu5pXdb3",
        "outputId": "c4775f9a-00e9-4449-d7a5-80b566ed24f5",
        "colab": {
          "base_uri": "https://localhost:8080/"
        }
      }
    },
    {
      "cell_type": "markdown",
      "source": [
        "# Conclusions\n",
        "\n",
        "Automated feature engineering is a significant improvement over manual feature engineering in terms of both time and modeling performance. In this notebook, we implemented an automated feature engineering workflow with Featuretools for the customer churn problem. Given customer data and label times, we can now calculate a feature matrix with several hundred relevant features for predicting customer churn while ensuring that our features are made with valid data for each cutoff time. \n",
        "\n",
        "Along the way, we implemented a number of Featuretools concepts:\n",
        "\n",
        "1. An entityset and entities\n",
        "2. Relationships between entities\n",
        "3. Cutoff times\n",
        "4. Feature primitives\n",
        "5. Custom primitives\n",
        "6. Deep feature synthesis\n",
        "\n",
        "These concepts will serve us well in future machine learning projects that we can tackle with automated feature engineering.\n",
        "\n",
        "## Next Steps\n",
        "\n",
        "Although we often hear that \"data is the fuel of machine learning\", data is not exactly a fuel but more like crude oil. _Features_ are the refined product that we feed into a machine learning model to make accurate predictions. After performing prediction engineering and automated feature engineering, the next step is to use these features in a predictive model to estimate the _label_ using the _features_. \n",
        "\n",
        "Generating hundreds of features automatically is impressive, but if those features cannot allow a model to learn our prediction problem then they are not mcuch help! The next step is to use our features and labeled historical examples to train a machine learning model to make predictions of customer churn. We'll make sure to test our model using a hold-out testing set to estimate performance on new data. Then, after validating our model, we can use it on new examples by passing the data through the feature engineering process. \n",
        "\n",
        "\n",
        "If you want to see how to parallelize feature engineering in Spark, see the `Feature Engineering on Spark` notebook. Otherwise, the next notebook is `Modeling`, where we develop a machine learning model to predict churn using the historical labeled examples and the automatically engineered features."
      ],
      "metadata": {
        "id": "x9lzo-qgXdb3"
      }
    },
    {
      "cell_type": "code",
      "execution_count": 49,
      "source": [],
      "outputs": [],
      "metadata": {
        "id": "FhhQ0NMGXdb4"
      }
    }
  ]
}